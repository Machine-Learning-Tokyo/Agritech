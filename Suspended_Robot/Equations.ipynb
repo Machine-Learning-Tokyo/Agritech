{
 "cells": [
  {
   "cell_type": "markdown",
   "metadata": {},
   "source": [
    "![Pic](board_eqns.jpg)"
   ]
  },
  {
   "cell_type": "code",
   "execution_count": 4,
   "metadata": {
    "tags": [
     "hide_input"
    ]
   },
   "outputs": [
    {
     "data": {
      "application/javascript": [
       "MathJax.Hub.Config({\n",
       "    TeX: { equationNumbers: { autoNumber: \"AMS\" } }\n",
       "});\n"
      ],
      "text/plain": [
       "<IPython.core.display.Javascript object>"
      ]
     },
     "metadata": {},
     "output_type": "display_data"
    }
   ],
   "source": [
    "%%javascript\n",
    "MathJax.Hub.Config({\n",
    "    TeX: { equationNumbers: { autoNumber: \"AMS\" } }\n",
    "});"
   ]
  },
  {
   "cell_type": "markdown",
   "metadata": {},
   "source": [
    "## Setup\n",
    "\n",
    "To start, some simplifications:\n",
    "\n",
    "1. The robot is currently a point. Not a spherical cow, sadly. 🐮\n",
    "2. The ropes all meet at the robot point.\n",
    "3. The ropes are all taut, and aren't elastic.\n",
    "4. The pulleys are also points.\n",
    "\n",
    "Let:\n",
    "\n",
    "- The dimensions of the box made by the pulleys, and their supporting rods, be $B\\times D \\times H$. \n",
    "- The four pulleys be $P_i | i \\in {1, 2, 3, 4}$.\n",
    "  - So the positions of the four pulleys are: $P_1 = (0, 0, H)$, $P_2 = (0, D, H)$, $P_3 = (B, D, H)$, and $P_4 = (B, 0, H)$.\n",
    "- The length of the the rope from pulley $P_i$ be $l_i$.\n",
    "- The position of the robot be $(x, y, z)$.\n",
    "\n",
    "## Relating the locations and lengths\n",
    "\n",
    "The length of each rope $l_i$ is the distance from the corresponding pulley $P_i$ to the robot:\n",
    "\\begin{align}\n",
    "\\begin{aligned}\n",
    "l_1^2 &= (0 - x)^2 + (0 - y)^2 + (H - z)^2 \\\\ &= x^2 + y^2 + (H - z)^2\n",
    "\\end{aligned} \\\\\n",
    "\\begin{aligned}\n",
    "l_2^2 &= (0 - x)^2 + (D - y)^2 + (H - z)^2 \\\\ &= x^2 + (D - y)^2 + (H - z)^2\n",
    "\\end{aligned} \\\\\n",
    "\\begin{aligned}\n",
    "l_3^2 &= (B - x)^2 + (D - y)^2 + (H - z)^2 \\\\ &= (B - x)^2 + (D - y)^2 + (H - z)^2\n",
    "\\end{aligned} \\\\\n",
    "\\begin{aligned}\n",
    "l_4^2 &= (B - x)^2 + (0 - y)^2 + (H - z)^2 \\\\ &= (B - x)^2 + y^2 + (H - z)^2\n",
    "\\end{aligned} \\\\\n",
    "\\end{align}\n",
    "\n",
    "We can then get equations featuring only $x$ or only $y$, by subtracting $l_2$ from $l_1$ and $l_3$ from $l_2$:\n",
    "\n",
    "\\begin{align}\n",
    "\\begin{aligned}\n",
    "l_1^2 - l_2^2 &= y^2 - (D - y)^2 \\\\\n",
    " &= y^2 - (D^2 - 2Dy + y^2) \\\\\n",
    " &= -D^2 + 2Dy \n",
    "\\end{aligned} \\\\\n",
    "\\begin{aligned}\n",
    "l_2^2 - l_3^2 &= x^2 - (B - x)^2 \\\\\n",
    " &= x^2 - (B^2 - 2By + x^2) \\\\\n",
    " &= -B^2 + 2Bx\n",
    "\\end{aligned} \\\\\n",
    "\\end{align}\n",
    "\n",
    "So:\n",
    "\n",
    "\\begin{align}\n",
    "y &= \\frac{l_1^2 - l_2^2 + D^2}{2D} \\\\\n",
    "x &= \\frac{l_2^2 - l_3^2 + B^2}{2B}\n",
    "\\end{align}\n",
    "\n",
    "Or by other combinations as well:\n",
    "\n",
    "\\begin{align}\n",
    "l_4^2 - l_3^2 &= y^2 - (D - y)^2 \\\\\n",
    "l_1^2 - l_4^2 &= x^2 - (B - x)^2\n",
    "\\end{align}\n",
    "\n",
    "Giving us a constraint on why we don't have full 6DOF:\n",
    "\n",
    "\\begin{align}\n",
    "l_1^2 - l_2^2 &= l_4^2 - l_3^2 \\\\\n",
    "\\end{align}\n",
    "\n",
    "We can substitute back $x$ and $y$ to get $z$ as a function of $(l_i, B, D, H, x, y)$.\n",
    "\n",
    "For example, if we substitute $x$ & $y$ in $l_1$ equation, then we get (since this a sq equation, hence 2 solutions)\n",
    "\n",
    "$z = 0.5(\\sqrt(-l_1^4D^2 + 2l_1^2l_2^2D^2 - 2l_1^2D^4 + 4l_1^2 - l_2^4B^2 - l_2^4D^2 - 2l_2^2B^4 + 2l_2^2B^2l_3^2 + 2l_2^2D^4 - B^6 + 2B^4l_3^2 - B^2l_3^4 - D^6) + 2 H)$\n",
    "\n",
    "\n",
    "\n",
    "## Adding more realism\n",
    "\n",
    "Now, we can add some complications. First, the pulley is now a pulley and not a dot. We can then say that each length $l_i$ is an inital length $L_i$ plus the length added by unwinding the pulley via rotation, $r_i\\Delta\\theta_i$. (We're still simplifying by assuming the radius remains constant - in reality, it will change as the rope gets wound or unwound.)\n",
    "\n",
    "### Tautness\n",
    "As long as the rope is taut, the lengths will be equal to the distances from equations 1 to 4:\n",
    "\n",
    "\\begin{align}\n",
    "l_i = L_i + r_i\\Delta\\theta_i\n",
    "\\end{align}\n",
    "\n",
    "Other simplifications:\n",
    "\n",
    "- Identical pulleys.\n",
    "- The initial position of the robot is set so that the ropes are all equal length (so, at the intersection of the diagonals of the rectangle formed by the pulleys).\n",
    "\n",
    "Then $L_i$ are all $\\frac{1}{2}\\sqrt{B^2 + D^2}$.\n",
    "\n",
    "Using $\\Theta$ to denote the tuple of rotations $(\\theta_1, \\theta_2, \\theta_3, \\theta_4)$:\n",
    "\n",
    "$$ \n",
    "(x, y, z)  = f(\\Theta, B, D, H)\n",
    "$$"
   ]
  },
  {
   "cell_type": "markdown",
   "metadata": {},
   "source": [
    "# Two models\n",
    "\n",
    "The ultimate goal is to get a sequences of rotations of the pulleys that get us from point A $(x_1, y_1, z_1) = f(\\Theta_1, B, D, H)$ to point B $(x_2, y_2, z_2) = f(\\Theta_2, B, D, H)$.\n",
    "\n",
    "This can be thought of as a two step process:\n",
    "\n",
    "1. Get total rotation needed $\\Theta_2 - \\Theta_1 = \\Delta\\Theta = (\\Delta\\theta_1, \\Delta\\theta_2, \\Delta\\theta_3, \\Delta\\theta_4)$.\n",
    "2. Break that down in to a sequence of small rotations $\\{(d\\theta_1, d\\theta_2, d\\theta_3, d\\theta_4)_1, (d\\theta_1, d\\theta_2, d\\theta_3, d\\theta_4)_2, \\ldots\\}$, satisfying various constraints:\n",
    " - the path is smooth,\n",
    " - the ropes don't get too much slack,\n",
    " - the robot doesn't get too tilted.\n",
    " \n",
    "Each can be independently modeled.\n",
    "\n",
    "## Model 1: total movement\n",
    "For the first model, we can start using the initial assumptions we made, since we can generate training data from the shown equations. This will let us quickly get a reasonable model.\n",
    "\n",
    "We can then expand it to account for the simplifications we made:\n",
    "\n",
    "- the robot can be expanded to a platform, with $x, y, z$ as the centre, and distance equations 1-4 are modified to account for the dimensions of the platform,\n",
    "- the pulleys can be different,\n",
    "- the pulley radii of vary with rotation,\n",
    "- the rope has some elasticity, etc.\n",
    "\n",
    "\n",
    "## Model 2: sequence of steps\n",
    "\n",
    "For the second model, further consideration is needed. Possibilities:\n",
    "\n",
    "- Since we are using stepper motors, we can consider $\\Delta\\theta_i$ to be $N_{steps, i} \\times d\\theta_{step, i}$, with $d\\theta_{step, i}$ being constant for each pulley/motor. \n",
    "- Then, instead of $\\Delta\\Theta$, we can work with the total number of steps needed for each motor: $(N_1, N_2, N_3, N_4)$.\n",
    "- And we can break down the total number of steps a sequence of smaller steps where each motor moves one step, or not at all: $(1, 0, 1, 0), (0, 0, 1, 0), \\ldots$.\n",
    "- At each step, we ensure that the rope is taut (equation 12), and if any rope gets too much slack, prioritize rotating that pulley to accomodate make the rope taut."
   ]
  },
  {
   "cell_type": "code",
   "execution_count": null,
   "metadata": {},
   "outputs": [],
   "source": []
  }
 ],
 "metadata": {
  "kernelspec": {
   "display_name": "Python 3",
   "language": "python",
   "name": "python3"
  },
  "language_info": {
   "codemirror_mode": {
    "name": "ipython",
    "version": 3
   },
   "file_extension": ".py",
   "mimetype": "text/x-python",
   "name": "python",
   "nbconvert_exporter": "python",
   "pygments_lexer": "ipython3",
   "version": "3.6.0"
  }
 },
 "nbformat": 4,
 "nbformat_minor": 2
}
