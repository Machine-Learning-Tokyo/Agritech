{
 "cells": [
  {
   "cell_type": "code",
   "execution_count": 1,
   "metadata": {},
   "outputs": [],
   "source": [
    "import numpy as np"
   ]
  },
  {
   "cell_type": "code",
   "execution_count": 2,
   "metadata": {},
   "outputs": [],
   "source": [
    "def get_coordinate(thetas,B,D,H,r,initial_thetas=[0,0,0]):\n",
    "    Li=0.5*np.sqrt(B**2+D**2) #initial length\n",
    "    del_thetas = [theta-initial_theta for (theta,initial_theta) in zip(thetas,initial_thetas)] #difference in theta\n",
    "    l= [Li+r*del_theta for del_theta in del_thetas] #l1,l2,l3\n",
    "    x = (l[1]**2-l[2]**2+B**2)/(2*B)\n",
    "    y = (l[0]**2-l[1]**2+D**2)/(2*D)\n",
    "    z= 0.5*(np.sqrt(-l[0]**4*D**2+\n",
    "                    2*l[0]**2*l[1]**2*D**2-\n",
    "                    2*l[0]**2*D**4+\n",
    "                    4*l[0]**2-\n",
    "                    l[1]**4*B**2-\n",
    "                    l[1]**4*D**2-\n",
    "                    2*l[1]**2*B**4+\n",
    "                    2*l[1]**2*B**2*l[2]**2+\n",
    "                   2*l[1]**2*D**4-\n",
    "                   B**6+\n",
    "                   2*B**4*l[2]**2-\n",
    "                   B**2*l[2]**4-\n",
    "                   D**6)+2*H)"
   ]
  },
  {
   "cell_type": "code",
   "execution_count": 4,
   "metadata": {},
   "outputs": [
    {
     "name": "stderr",
     "output_type": "stream",
     "text": [
      "/anaconda3/lib/python3.7/site-packages/ipykernel_launcher.py:19: RuntimeWarning: invalid value encountered in sqrt\n"
     ]
    }
   ],
   "source": [
    "get_coordinate([10,10,10],100,200,300,0.1,initial_thetas=[0,0,0])"
   ]
  },
  {
   "cell_type": "code",
   "execution_count": null,
   "metadata": {},
   "outputs": [],
   "source": []
  }
 ],
 "metadata": {
  "kernelspec": {
   "display_name": "Python 3",
   "language": "python",
   "name": "python3"
  },
  "language_info": {
   "codemirror_mode": {
    "name": "ipython",
    "version": 3
   },
   "file_extension": ".py",
   "mimetype": "text/x-python",
   "name": "python",
   "nbconvert_exporter": "python",
   "pygments_lexer": "ipython3",
   "version": "3.7.3"
  }
 },
 "nbformat": 4,
 "nbformat_minor": 2
}
