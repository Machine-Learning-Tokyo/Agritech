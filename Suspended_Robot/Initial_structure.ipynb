{
 "cells": [
  {
   "cell_type": "code",
   "execution_count": 4,
   "metadata": {},
   "outputs": [],
   "source": [
    "import numpy as np"
   ]
  },
  {
   "cell_type": "code",
   "execution_count": 5,
   "metadata": {},
   "outputs": [],
   "source": [
    "num_pulleys = 4"
   ]
  },
  {
   "cell_type": "markdown",
   "metadata": {},
   "source": [
    "`get_li` gets the inital length of strings based on the `B` & `D`\n",
    "\n",
    "$l_i = L_i + r_i\\Delta\\theta_i$"
   ]
  },
  {
   "cell_type": "code",
   "execution_count": 6,
   "metadata": {},
   "outputs": [],
   "source": [
    "def get_Li(B,D):\n",
    "    return 0.5*np.sqrt(B**2+D**2)"
   ]
  },
  {
   "cell_type": "markdown",
   "metadata": {},
   "source": [
    "`get_delta_thetas` provide the delta of thetas needed for moving from an inital location to final location\n",
    "\n",
    "- TO DO\n",
    " - We need to account for 360 degree rotation here\n",
    " - We need to have a reverse calculation done, i.e. given a $x_i,y_i,z_i$ & $x_f,y_f,z_f$ we need to find out what the inital and final thetas. But more on that later."
   ]
  },
  {
   "cell_type": "code",
   "execution_count": 15,
   "metadata": {},
   "outputs": [],
   "source": [
    "def get_delta_thetas(final_thetas, initial_thetas):\n",
    "    # TO DO #\n",
    "    # We need to account for 360 degree rotation here #\n",
    "    return [final_theta-initial_theta for (final_theta,initial_theta) in zip(final_thetas,initial_thetas)] #difference in theta"
   ]
  },
  {
   "cell_type": "markdown",
   "metadata": {},
   "source": [
    "`get_final_string_length` \n",
    "\n",
    "provides the final length of strings which need to be achieved for reaching a specific location (based on thetas."
   ]
  },
  {
   "cell_type": "code",
   "execution_count": 21,
   "metadata": {},
   "outputs": [],
   "source": [
    "def get_final_string_length(Li,r,delta_thetas=np.zeros((1,num_pulleys))):\n",
    "    return [Li+r*delta_theta for delta_theta in delta_thetas]"
   ]
  },
  {
   "cell_type": "code",
   "execution_count": 22,
   "metadata": {},
   "outputs": [],
   "source": [
    "def get_coordinate(thetas,B,D,H,r,initial_thetas=[0,0,0]):\n",
    "    Li=get_Li(B,D)\n",
    "    delta_thetas = get_delta_thetas(thetas,initial_thetas)\n",
    "    l= get_final_string_length(Li,r,delta_thetas)\n",
    "    x = (l[1]**2-l[2]**2+B**2)/(2*B)\n",
    "    y = (l[0]**2-l[1]**2+D**2)/(2*D)\n",
    "    z= 0.5*(np.sqrt(-l[0]**4*D**2+\n",
    "                    2*l[0]**2*l[1]**2*D**2-\n",
    "                    2*l[0]**2*D**4+\n",
    "                    4*l[0]**2-\n",
    "                    l[1]**4*B**2-\n",
    "                    l[1]**4*D**2-\n",
    "                    2*l[1]**2*B**4+\n",
    "                    2*l[1]**2*B**2*l[2]**2+\n",
    "                   2*l[1]**2*D**4-\n",
    "                   B**6+\n",
    "                   2*B**4*l[2]**2-\n",
    "                   B**2*l[2]**4-\n",
    "                   D**6)+2*H)\n",
    "    return (x,y,z)"
   ]
  },
  {
   "cell_type": "code",
   "execution_count": 23,
   "metadata": {},
   "outputs": [
    {
     "name": "stderr",
     "output_type": "stream",
     "text": [
      "c:\\program files\\python36\\lib\\site-packages\\ipykernel_launcher.py:19: RuntimeWarning: invalid value encountered in sqrt\n"
     ]
    },
    {
     "data": {
      "text/plain": [
       "(50.0, 100.0, nan)"
      ]
     },
     "execution_count": 23,
     "metadata": {},
     "output_type": "execute_result"
    }
   ],
   "source": [
    "get_coordinate([10,10,10],100,200,300,0.1,initial_thetas=[0,0,0])"
   ]
  },
  {
   "cell_type": "markdown",
   "metadata": {},
   "source": [
    "#### There seems to be an issue while calculating `z` ####\n",
    "TO be investigated further"
   ]
  },
  {
   "cell_type": "code",
   "execution_count": null,
   "metadata": {},
   "outputs": [],
   "source": []
  }
 ],
 "metadata": {
  "kernelspec": {
   "display_name": "Python 3",
   "language": "python",
   "name": "python3"
  },
  "language_info": {
   "codemirror_mode": {
    "name": "ipython",
    "version": 3
   },
   "file_extension": ".py",
   "mimetype": "text/x-python",
   "name": "python",
   "nbconvert_exporter": "python",
   "pygments_lexer": "ipython3",
   "version": "3.6.0"
  }
 },
 "nbformat": 4,
 "nbformat_minor": 2
}
