{
 "cells": [
  {
   "cell_type": "code",
   "execution_count": 1,
   "metadata": {},
   "outputs": [],
   "source": [
    "import numpy as np"
   ]
  },
  {
   "cell_type": "code",
   "execution_count": 2,
   "metadata": {},
   "outputs": [],
   "source": [
    "num_pulleys = 4"
   ]
  },
  {
   "cell_type": "markdown",
   "metadata": {},
   "source": [
    "$$ l_i = L_i + r_i\\Delta\\theta_i $$"
   ]
  },
  {
   "cell_type": "code",
   "execution_count": 3,
   "metadata": {},
   "outputs": [],
   "source": [
    "def get_Li(B, D):\n",
    "    \"\"\"\n",
    "    The inital length of strings based on B and D\n",
    "    \"\"\"\n",
    "    return 0.5*np.sqrt(B**2 + D**2)"
   ]
  },
  {
   "cell_type": "markdown",
   "metadata": {},
   "source": [
    "### TODO\n",
    " - [ ] We need to account for 360 degree rotation here\n",
    "    - Are you talking about the decrease in radius each time the pulley rotates completely?\n",
    " - [x] We need to have a reverse calculation done, i.e. given a $x_i,y_i,z_i$ & $x_f,y_f,z_f$ we need to find out what the inital and final thetas. But more on that later."
   ]
  },
  {
   "cell_type": "code",
   "execution_count": 4,
   "metadata": {},
   "outputs": [],
   "source": [
    "def get_final_string_length(Li, r, delta_thetas=np.zeros((1,num_pulleys))):\n",
    "    \"\"\"\n",
    "    The final length of strings which need to be achieved for \n",
    "    reaching a specific location (based on thetas).\n",
    "    \"\"\"\n",
    "    return Li + r*delta_thetas\n",
    "\n",
    "def get_theta_from_string_length(li, Li, r):\n",
    "    \"\"\"\n",
    "    Given some string lengths li and initial lengths Li, return\n",
    "    the rotation of the pulleys\n",
    "    \"\"\"\n",
    "    return (li - Li)/r"
   ]
  },
  {
   "cell_type": "code",
   "execution_count": 5,
   "metadata": {},
   "outputs": [],
   "source": [
    "def get_coordinate(thetas, B, D, H, r):\n",
    "    \"\"\"\n",
    "    thetas: numpy array of rotations, shape: (num_arrays, )\n",
    "    B, D, H, r: scalar constants\n",
    "    \"\"\"\n",
    "    Li = get_Li(B, D)\n",
    "    l = get_final_string_length(Li, r, thetas)\n",
    "    x = (l[1]**2 - l[2]**2 + B**2)/(2*B)\n",
    "    y = (l[0]**2 - l[1]**2 + D**2)/(2*D)\n",
    "    Hz2 = l[0]**2 - x**2 - y**2 # (H-z)^2, eqn 1\n",
    "    # Is it taut?\n",
    "    # print(l[0]**2 - l[3]**2, l[1]**2 - l[2]**2)\n",
    "    z = H - np.sqrt(Hz2)\n",
    "    return np.array([x, y, z])"
   ]
  },
  {
   "cell_type": "code",
   "execution_count": 6,
   "metadata": {},
   "outputs": [],
   "source": [
    "def get_thetas(coords, B, D, H, r):\n",
    "    \"\"\"\n",
    "    coords: (x, y, z) coordinates\n",
    "    B, D, H, r: scalar constants\n",
    "    \"\"\"\n",
    "    l = np.zeros((4,))\n",
    "    x, y, z = coords\n",
    "    Hz2 = (H - z)**2 # common term\n",
    "    l[0] = np.sqrt(x**2 + y**2 + Hz2)\n",
    "    l[1] = np.sqrt(x**2 + (D - y)**2 + Hz2)\n",
    "    l[2] = np.sqrt((B - x)**2 + (D - y)**2 + Hz2)\n",
    "    l[3] = np.sqrt((B - x)**2 + y**2 + Hz2)\n",
    "    return get_theta_from_string_length(l, get_Li(B, D), r)"
   ]
  },
  {
   "cell_type": "code",
   "execution_count": 7,
   "metadata": {},
   "outputs": [],
   "source": [
    "# Box dimensions\n",
    "B, D, H = 100, 200, 300\n",
    "# Pulley radius\n",
    "r = 0.1\n",
    "# Pulley locations\n",
    "Pulleys = [(0, 0, H), (0, D, H), (B, D, H), (B, 0, H)]"
   ]
  },
  {
   "cell_type": "markdown",
   "metadata": {},
   "source": [
    "Taking some random values of $\\Theta$, we can get the corresponding coordinates from `get_coordinates()`.\n",
    "If $\\Theta$ is such that the ropes are taught, we will get back the original $\\Theta$ from `get_thetas()`.\n",
    "If they aren't, the values will be different. Both are demonstrated in the following example. In the first case, $\\theta_4$ is clearly different from the value we set, but in the second case, all angles are exactly the same."
   ]
  },
  {
   "cell_type": "code",
   "execution_count": 8,
   "metadata": {},
   "outputs": [
    {
     "name": "stdout",
     "output_type": "stream",
     "text": [
      "For rotation = [10. 20. 30. 40.]\n",
      "\tx = 41.98822482885034, y = 96.19150450244695, z = 245.88322994588324\n",
      "\tΘ =  [10.        20.        30.        20.5045589]\n",
      "\n",
      "For rotation = [10. 20. 20. 10.]\n",
      "\tx = 50.0, y = 96.19150450244695, z = 253.18508971098808\n",
      "\tΘ =  [10. 20. 20. 10.]\n",
      "\n"
     ]
    }
   ],
   "source": [
    "def display(rotations, coords, theta):\n",
    "    print(f'For rotation = {rotations/(2*np.pi)}')\n",
    "    x, y, z = coords\n",
    "    print(f'\\tx = {x}, y = {y}, z = {z}')\n",
    "    print('\\tΘ = ', theta)\n",
    "    print()\n",
    "    \n",
    "# Pulleys rotated 10 revolutions, 20, 30, and 40, respectively\n",
    "rotations = np.array([10, 20, 30, 40])*2*np.pi\n",
    "coords = get_coordinate(rotations, B, D, H, r)\n",
    "theta = get_thetas(coords, B, D, H, r)/(2*np.pi)\n",
    "display(rotations, coords, theta)\n",
    "\n",
    "# Pulleys rotated 10 revolutions, 20, 20, and 10, respectively\n",
    "rotations = np.array([10, 20, 20, 10])*2*np.pi\n",
    "coords = get_coordinate(rotations, B, D, H, r)\n",
    "theta = get_thetas(coords, B, D, H, r)/(2*np.pi)\n",
    "display(rotations, coords, theta)"
   ]
  },
  {
   "cell_type": "markdown",
   "metadata": {},
   "source": [
    "## A plot of the ropes\n",
    "### Note\n",
    "The following blocks need Jupyter Lab with [the `jupyter-matplotlib` extension](https://github.com/matplotlib/jupyter-matplotlib#installation) installed. This allows interactive plots, so we can pan and zoom on the 3D plots and get more interesting viewpoints."
   ]
  },
  {
   "cell_type": "code",
   "execution_count": 9,
   "metadata": {},
   "outputs": [
    {
     "data": {
      "application/vnd.jupyter.widget-view+json": {
       "model_id": "15a82877224b447d8fb575c2f310033b",
       "version_major": 2,
       "version_minor": 0
      },
      "text/plain": [
       "Canvas(toolbar=Toolbar(toolitems=[('Home', 'Reset original view', 'home', 'home'), ('Back', 'Back to previous …"
      ]
     },
     "metadata": {},
     "output_type": "display_data"
    }
   ],
   "source": [
    "%matplotlib widget \n",
    "import matplotlib.pyplot as plt\n",
    "import matplotlib.animation as animation\n",
    "from mpl_toolkits.mplot3d import Axes3D\n",
    "\n",
    "x, y, z = coords\n",
    "\n",
    "fig = plt.figure()\n",
    "ax = fig.add_subplot(111, projection='3d')\n",
    "for p in Pulleys:\n",
    "    ax.plot((p[0], x), (p[1], y), zs=[p[2], z])\n",
    "\n",
    "ax.set_xlim3d(0, B)\n",
    "ax.set_ylim3d(0, D)\n",
    "ax.set_zlim3d(200, H)\n",
    "ax.set_xlabel('X')\n",
    "ax.set_ylabel('Y')\n",
    "ax.set_zlabel('Z')\n",
    "\n",
    "# manually tweaked to get a nicer POV\n",
    "ax.view_init(elev=4.5, azim=-16)\n",
    "ax.dist = 7.5"
   ]
  },
  {
   "cell_type": "markdown",
   "metadata": {},
   "source": [
    "## An animation of movement of the robot\n",
    "\n",
    "As stated in the Equations notebook, any motion of the robot is the result a sequence of steps of the pulley stepper motors. We can generate a sequence of steps for each pulley where each step is one of:\n",
    "\n",
    "- $1$, indicating the pulley rotated forward one step\n",
    "- $0$, indicating the pulley didn't rotate\n",
    "- $-1$, indicating the pulley rotated backward one step\n",
    "\n",
    "Then, if the pulley rotates by $d\\theta_{step}$ for each step, we can get sequence of $d\\Theta$s, and taking some random initial $\\Theta$, a sequence of $\\Theta$.\n",
    "\n",
    "Let us plot the $(x, y, z)$ for each $\\Theta$.\n",
    "\n",
    "As example, the following function rotates two pulleys every step, and two pulleys every other step. So the first two pulleys get rotated 2x more than the other two pulleys. The effect is that the robot traces an arc.\n",
    "\n",
    "This is how the final frame of the animation should look like:\n",
    "\n",
    "![](arc.png)"
   ]
  },
  {
   "cell_type": "code",
   "execution_count": 10,
   "metadata": {},
   "outputs": [],
   "source": [
    "def get_random_steps(N_steps):\n",
    "    \"\"\"\n",
    "    Example stepper. Each step can be one of three values:\n",
    "    rotate forward (1), don't move (0) or rotate back (-1)\n",
    "    \"\"\"\n",
    "    for i in range(N_steps):\n",
    "        yield(np.array([1, 1, i%2, i%2]))\n",
    "\n",
    "\n",
    "dtheta_step = 10*(np.pi/180) # say, 10°\n",
    "r = 0.1 # radius of pulley\n",
    "\n",
    "np.random.seed(17648) # fixed seed to generate same steps each time\n",
    "\n",
    "N_steps = 100\n",
    "Theta = np.random.randint(3*np.pi, 5*np.pi, (4,))\n",
    "Point = get_coordinate(Theta, B, D, H, r)\n",
    "\n",
    "Thetas = [Theta]\n",
    "Points = [Point]\n",
    "steps = []\n",
    "for step in get_random_steps(N_steps):\n",
    "    steps.append(step)\n",
    "    # since steps are too small to show in the figure,\n",
    "    # let's scale the steps by a factor of 5\n",
    "    dtheta = (dtheta_step*step)*5\n",
    "    Theta = Thetas[-1] + dtheta\n",
    "    Point = get_coordinate(Theta, B, D, H, r)\n",
    "    Points.append(Point)\n",
    "    Thetas.append(Theta)"
   ]
  },
  {
   "cell_type": "code",
   "execution_count": 11,
   "metadata": {},
   "outputs": [
    {
     "data": {
      "application/vnd.jupyter.widget-view+json": {
       "model_id": "83862db6e439404cb3b278e9db9beb76",
       "version_major": 2,
       "version_minor": 0
      },
      "text/plain": [
       "Canvas(toolbar=Toolbar(toolitems=[('Home', 'Reset original view', 'home', 'home'), ('Back', 'Back to previous …"
      ]
     },
     "metadata": {},
     "output_type": "display_data"
    }
   ],
   "source": [
    "import mpl_toolkits.mplot3d.axes3d as p3\n",
    "\n",
    "fig = plt.figure()\n",
    "ax = fig.add_subplot(111, projection='3d')\n",
    "\n",
    "# Initial settings for the plot\n",
    "P0 = Points[0]\n",
    "lines = [ax.plot((P[0], P0[0]), (P[1], P0[1]), zs=[P[2], P0[2]])[0] for P in Pulleys]\n",
    "path = ax.plot((P0[0], P0[0]), (P0[1], P0[1]), zs=[P0[2], P0[2]])[0]\n",
    "\n",
    "# Creating the animation function and object\n",
    "def update_lines(num, Points, lines, path):\n",
    "    Point = Points[num]\n",
    "    for i in range(num_pulleys):\n",
    "        # Redraw each rope\n",
    "        line = lines[i]\n",
    "        Pulley = Pulleys[i]\n",
    "        line.set_data_3d((Pulley[0], Point[0]),\n",
    "                         (Pulley[1], Point[1]),\n",
    "                         (Pulley[2], Point[2]))\n",
    "    # Trace the path of the robot\n",
    "    x, y, z = path.get_data_3d()\n",
    "    if num == 0:\n",
    "        path.set_data_3d([Point[0]], [Point[1]], [Point[2]])\n",
    "    else:\n",
    "        path.set_data_3d(np.append(x, Point[0]),\n",
    "                         np.append(y, Point[1]),\n",
    "                         np.append(z, Point[2]))\n",
    "    return lines\n",
    "line_ani = animation.FuncAnimation(fig, update_lines, N_steps, fargs=(Points, lines, path),\n",
    "                                   repeat=False, blit=False)\n",
    "\n",
    "ax.set_xlabel('X')\n",
    "ax.set_ylabel('Y')\n",
    "ax.set_zlabel('Z')\n",
    "ax.set_xlim3d(0, B)\n",
    "ax.set_ylim3d(0, D)\n",
    "ax.set_zlim3d(250, H)\n",
    "# manually tweaked to get a nicer POV\n",
    "ax.view_init(elev=18, azim=-70)\n",
    "ax.dist = 7.5"
   ]
  },
  {
   "cell_type": "code",
   "execution_count": null,
   "metadata": {},
   "outputs": [],
   "source": []
  }
 ],
 "metadata": {
  "kernelspec": {
   "display_name": "Python 3",
   "language": "python",
   "name": "python3"
  },
  "language_info": {
   "codemirror_mode": {
    "name": "ipython",
    "version": 3
   },
   "file_extension": ".py",
   "mimetype": "text/x-python",
   "name": "python",
   "nbconvert_exporter": "python",
   "pygments_lexer": "ipython3",
   "version": "3.7.4"
  }
 },
 "nbformat": 4,
 "nbformat_minor": 4
}
