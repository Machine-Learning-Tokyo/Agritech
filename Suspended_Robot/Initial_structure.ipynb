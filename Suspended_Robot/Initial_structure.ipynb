{
 "cells": [
  {
   "cell_type": "code",
   "execution_count": 1,
   "metadata": {},
   "outputs": [],
   "source": [
    "import numpy as np"
   ]
  },
  {
   "cell_type": "code",
   "execution_count": 2,
   "metadata": {},
   "outputs": [],
   "source": [
    "num_pulleys = 4"
   ]
  },
  {
   "cell_type": "markdown",
   "metadata": {},
   "source": [
    "### Representation used for this code development ###"
   ]
  },
  {
   "cell_type": "markdown",
   "metadata": {},
   "source": [
    "![](string_coordinate_representation_img_1.JPG)"
   ]
  },
  {
   "cell_type": "markdown",
   "metadata": {},
   "source": [
    "#### `get_li` ####\n",
    "\n",
    "For getting inital $L_i$, we assume that the bot is at the `top-center`. With this assumption, we only need to consider `B & D` metrics for calculating $L_i$\n",
    "\n"
   ]
  },
  {
   "cell_type": "code",
   "execution_count": 3,
   "metadata": {},
   "outputs": [],
   "source": [
    "def get_Li(B, D):\n",
    "    \"\"\"\n",
    "    The inital length of strings based on B and D\n",
    "    \"\"\"\n",
    "    return 0.5*np.sqrt(B**2 + D**2)"
   ]
  },
  {
   "cell_type": "markdown",
   "metadata": {},
   "source": [
    "### TODO\n",
    " - [ ] We need to account for 360 degree rotation here\n",
    "    - Are you talking about the decrease in radius each time the pulley rotates completely?\n",
    " - [x] We need to have a reverse calculation done, i.e. given a $x_i,y_i,z_i$ & $x_f,y_f,z_f$ we need to find out what the inital and final thetas. But more on that later."
   ]
  },
  {
   "cell_type": "markdown",
   "metadata": {},
   "source": [
    "#### `get_final_string_length` ####\n",
    "Considering that we have an inital length available, `delta_thetas` given, this function would provide what would be the final length if the pulleys are moved by `delta_theta`\n",
    "\n",
    "$$ L_f = L_i + r_i\\Delta\\theta_i $$\n",
    "\n",
    "#### `get_theta_from_string_length` ####\n",
    "If we have final length $L_f$ and inital string length $L_i$ and the radius of the pulleys, then we can find the `delta_thetas` moved by the pulleys\n",
    "\n",
    "<h4 style=\"color:red\">NOTE</h4>\n",
    "Remember, $L_i$ and & $L_f$ are array/list, so the output would also be array/list each corresponding to individual pulleys."
   ]
  },
  {
   "cell_type": "code",
   "execution_count": 4,
   "metadata": {},
   "outputs": [],
   "source": [
    "def get_final_string_length(Li, r, delta_thetas=np.zeros((1,num_pulleys))):\n",
    "    \"\"\"\n",
    "    The final length of strings which need to be achieved for \n",
    "    reaching a specific location (based on thetas).\n",
    "    \"\"\"\n",
    "    return Li + r*delta_thetas\n",
    "\n",
    "def get_theta_from_string_length(Lf, Li, r):\n",
    "    \"\"\"\n",
    "    Given some string lengths Lf and initial lengths Li, return\n",
    "    the rotation of the pulleys\n",
    "    \"\"\"\n",
    "    return (Lf - Li)/r"
   ]
  },
  {
   "cell_type": "markdown",
   "metadata": {},
   "source": [
    "#### `get_coordinate` ####\n",
    "Assumption:\n",
    "We start from the top of the board, therefore the $L_i$ is same for all strings\n",
    "\n",
    "1. We take the initial $L_i$ for all strings\n",
    "2. We are given the `thetas` that the pulley moved\n",
    "3. We use initial $L_i$ and `thetas` to get final lengths\n",
    "\n",
    "Then we use following formulas for getting coordinates of the final place the bot moved to\n",
    "\n",
    "\\begin{align}\n",
    "y &= \\frac{l_1^2 - l_2^2 + D^2}{2D} \\\\\n",
    "x &= \\frac{l_2^2 - l_3^2 + B^2}{2B}\n",
    "\\end{align}\n",
    "\n",
    "\\begin{aligned}\n",
    "l_1^2 &= (0 - x)^2 + (0 - y)^2 + (H - z)^2 \\\\ &= x^2 + y^2 + (H - z)^2\n",
    "\\end{aligned}\n",
    "\n",
    "\\begin{aligned}\n",
    "(H - z)^2 = l_1^2 - x^2 - y^2\\\\\n",
    "\\end{aligned}\n",
    "\n",
    "$(H - z)^2$ = Hz2 (Python variable)\n"
   ]
  },
  {
   "cell_type": "code",
   "execution_count": 5,
   "metadata": {},
   "outputs": [],
   "source": [
    "def get_coordinate(thetas, B, D, H, r):\n",
    "    \"\"\"\n",
    "    thetas: numpy array of rotations, shape: (num_arrays, )\n",
    "    B, D, H, r: scalar constants\n",
    "    \"\"\"\n",
    "    Li = get_Li(B, D)\n",
    "    l = get_final_string_length(Li, r, thetas)\n",
    "    x = (l[1]**2 - l[2]**2 + B**2)/(2*B)\n",
    "    y = (l[0]**2 - l[1]**2 + D**2)/(2*D)\n",
    "    Hz2 = l[0]**2 - x**2 - y**2 # (H-z)^2, eqn 1\n",
    "    # Is it taut?\n",
    "    # print(l[0]**2 - l[3]**2, l[1]**2 - l[2]**2)\n",
    "    z = H - np.sqrt(Hz2)\n",
    "    return np.array([x, y, z])"
   ]
  },
  {
   "cell_type": "markdown",
   "metadata": {},
   "source": [
    "### `get_thetas` ###\n",
    "<p style=\"color:red\">We assume that we always start from the `top` center of the construct that you see on the top.</p>\n",
    "\n",
    "With the above assumption, the inital length of strings would be taken from `get_Li(B,D)` function.\n",
    "If we are given the final co-ordinates (x,y,z), we can fund the $Lf$ using following formulas\n",
    "\n",
    "\\begin{align}\n",
    "\\begin{aligned}\n",
    "l_1^2 &= x^2 + y^2 + (H - z)^2\n",
    "\\end{aligned} \\\\\n",
    "\\begin{aligned}\n",
    "l_2^2 &= x^2 + (D - y)^2 + (H - z)^2\n",
    "\\end{aligned} \\\\\n",
    "\\begin{aligned}\n",
    "l_3^2 &= (B - x)^2 + (D - y)^2 + (H - z)^2\n",
    "\\end{aligned} \\\\\n",
    "\\begin{aligned}\n",
    "l_4^2 &= (B - x)^2 + y^2 + (H - z)^2\n",
    "\\end{aligned} \\\\\n",
    "\\end{align}\n",
    "\n",
    "python variable $Hz2 = (H - Z)^2$"
   ]
  },
  {
   "cell_type": "code",
   "execution_count": 6,
   "metadata": {},
   "outputs": [],
   "source": [
    "def get_thetas(coords, B, D, H, r):\n",
    "    \"\"\"\n",
    "    coords: (x, y, z) coordinates\n",
    "    B, D, H, r: scalar constants\n",
    "    \"\"\"\n",
    "    l = np.zeros((4,))\n",
    "    x, y, z = coords\n",
    "    Hz2 = (H - z)**2 # common term\n",
    "    l[0] = np.sqrt(x**2 + y**2 + Hz2)\n",
    "    l[1] = np.sqrt(x**2 + (D - y)**2 + Hz2)\n",
    "    l[2] = np.sqrt((B - x)**2 + (D - y)**2 + Hz2)\n",
    "    l[3] = np.sqrt((B - x)**2 + y**2 + Hz2)\n",
    "    return get_theta_from_string_length(l, get_Li(B, D), r)"
   ]
  },
  {
   "cell_type": "code",
   "execution_count": 7,
   "metadata": {},
   "outputs": [],
   "source": [
    "# Box dimensions\n",
    "B, D, H = 100, 200, 300\n",
    "# Pulley radius\n",
    "r = 0.1\n",
    "# Pulley locations\n",
    "Pulleys = [(0, 0, H), (0, D, H), (B, D, H), (B, 0, H)]"
   ]
  },
  {
   "cell_type": "markdown",
   "metadata": {},
   "source": [
    "Taking some random values of $\\Theta$, we can get the corresponding coordinates from `get_coordinates()`.\n",
    "If $\\Theta$ is such that the ropes are taut, we will get back the original $\\Theta$ from `get_thetas()`.\n",
    "If they aren't, the values will be different. Both are demonstrated in the following example. In the first case, $\\theta_4$ is clearly different from the value we set, but in the second case, all angles are exactly the same."
   ]
  },
  {
   "cell_type": "markdown",
   "metadata": {},
   "source": [
    "### Below is just a cross-check function. ###\n",
    "1. Each pulley rotated `[10,20,30,40]` rotations respectively, (i.e 1st pulley, 2nd pulley etc.)\n",
    "2. With these rotations we get the final co-ordinates, remember we assume we start from top of the structure area.\n",
    "3. While using the final_cordinates we use `get_thetas` function, i.e how much theta is supposed to be moved, this should come back to thetas we decided earlier."
   ]
  },
  {
   "cell_type": "code",
   "execution_count": 8,
   "metadata": {},
   "outputs": [
    {
     "name": "stdout",
     "output_type": "stream",
     "text": [
      "For rotation = [10. 20. 30. 40.]\n",
      "\tx = 41.98822482885034, y = 96.19150450244695, z = 245.88322994588324\n",
      "\tΘ =  [10.        20.        30.        20.5045589]\n",
      "\n",
      "For rotation = [10. 20. 20. 10.]\n",
      "\tx = 50.0, y = 96.19150450244695, z = 253.18508971098808\n",
      "\tΘ =  [10. 20. 20. 10.]\n",
      "\n"
     ]
    }
   ],
   "source": [
    "def display(rotations, coords, theta):\n",
    "    print(f'For rotation = {rotations/(2*np.pi)}')\n",
    "    x, y, z = coords\n",
    "    print(f'\\tx = {x}, y = {y}, z = {z}')\n",
    "    print('\\tΘ = ', theta)\n",
    "    print()\n",
    "    \n",
    "# Pulleys rotated 10 revolutions, 20, 30, and 40, respectively\n",
    "rotations = np.array([10, 20, 30, 40])*2*np.pi\n",
    "coords = get_coordinate(rotations, B, D, H, r)\n",
    "theta = get_thetas(coords, B, D, H, r)/(2*np.pi)\n",
    "display(rotations, coords, theta)\n",
    "\n",
    "# Pulleys rotated 10 revolutions, 20, 20, and 10, respectively\n",
    "rotations = np.array([10, 20, 20, 10])*2*np.pi\n",
    "coords = get_coordinate(rotations, B, D, H, r)\n",
    "theta = get_thetas(coords, B, D, H, r)/(2*np.pi)\n",
    "display(rotations, coords, theta)"
   ]
  },
  {
   "cell_type": "markdown",
   "metadata": {},
   "source": [
    "## A plot of the ropes\n",
    "Here's how the system should look after the pulleys have done $(100, 200, 200, 100)$ revolutions:\n",
    "\n",
    "![](rope.png)\n",
    "\n",
    "Play around with the `rotations` variable below to see how the position varies.\n",
    "\n",
    "### Note\n",
    "The following blocks need Jupyter Lab with [the `jupyter-matplotlib` extension](https://github.com/matplotlib/jupyter-matplotlib#installation) installed. This allows interactive plots, so we can pan and zoom on the 3D plots and get more interesting viewpoints."
   ]
  },
  {
   "cell_type": "code",
   "execution_count": 9,
   "metadata": {},
   "outputs": [
    {
     "data": {
      "application/vnd.jupyter.widget-view+json": {
       "model_id": "38274263cc4e4e84bf4b9df4c7ab58f5",
       "version_major": 2,
       "version_minor": 0
      },
      "text/plain": [
       "Canvas(toolbar=Toolbar(toolitems=[('Home', 'Reset original view', 'home', 'home'), ('Back', 'Back to previous …"
      ]
     },
     "metadata": {},
     "output_type": "display_data"
    }
   ],
   "source": [
    "%matplotlib widget \n",
    "import matplotlib.pyplot as plt\n",
    "import matplotlib.animation as animation\n",
    "from mpl_toolkits.mplot3d import Axes3D\n",
    "\n",
    "rotations = np.array([100, 200, 200, 100])*2*np.pi\n",
    "coords = get_coordinate(rotations, B, D, H, r)\n",
    "x, y, z = coords\n",
    "\n",
    "fig = plt.figure()\n",
    "ax = fig.add_subplot(111, projection='3d')\n",
    "for p in Pulleys:\n",
    "    ax.plot((p[0], x), (p[1], y), zs=[p[2], z])\n",
    "for p in Pulleys:\n",
    "    ax.plot((p[0], p[0]), (p[1], p[1]), zs=[p[2], 0], color='black')\n",
    "\n",
    "ax.set_xlim3d(0, B)\n",
    "ax.set_ylim3d(0, D)\n",
    "ax.set_zlim3d(0, H)\n",
    "ax.set_xlabel('X')\n",
    "ax.set_ylabel('Y')\n",
    "ax.set_zlabel('Z')\n",
    "\n",
    "# manually tweaked to get a nicer POV\n",
    "ax.view_init(elev=7, azim=-109)\n",
    "ax.dist = 7.5"
   ]
  },
  {
   "cell_type": "markdown",
   "metadata": {},
   "source": [
    "## An animation of movement of the robot\n",
    "\n",
    "As stated in the Equations notebook, any motion of the robot is the result a sequence of steps of the pulley stepper motors. We can generate a sequence of steps for each pulley where each step is one of:\n",
    "\n",
    "- $1$, indicating the pulley rotated forward one step\n",
    "- $0$, indicating the pulley didn't rotate\n",
    "- $-1$, indicating the pulley rotated backward one step\n",
    "\n",
    "Then, if the pulley rotates by $d\\theta_{step}$ for each step, we can get sequence of $d\\Theta$s, and taking some random initial $\\Theta$, a sequence of $\\Theta$.\n",
    "\n",
    "Let us plot the $(x, y, z)$ for each $\\Theta$.\n",
    "\n",
    "As example, the following function rotates two pulleys every step, and two pulleys every other step. So the first two pulleys get rotated 2x more than the other two pulleys. The effect is that the robot traces a parabola.\n",
    "\n",
    "This is how the final frame of the animation should look like:\n",
    "\n",
    "![](arc.png)\n",
    "\n",
    "The violet line traces the path of the robot."
   ]
  },
  {
   "cell_type": "code",
   "execution_count": 10,
   "metadata": {},
   "outputs": [],
   "source": [
    "def get_random_steps(N_steps):\n",
    "    \"\"\"\n",
    "    Example stepper. Each step can be one of three values:\n",
    "    rotate forward (1), don't move (0) or rotate back (-1)\n",
    "    \"\"\"\n",
    "    for i in range(N_steps):\n",
    "        yield(np.array([1, 1, i%2, i%2]))\n",
    "\n",
    "\n",
    "dtheta_step = 10*(np.pi/180) # say, 10°\n",
    "r = 0.1 # radius of pulley\n",
    "\n",
    "np.random.seed(17648) # fixed seed to generate same steps each time\n",
    "\n",
    "N_steps = 100\n",
    "Theta = np.random.randint(3*np.pi, 5*np.pi, (4,))\n",
    "Point = get_coordinate(Theta, B, D, H, r)\n",
    "\n",
    "Thetas = [Theta]\n",
    "Points = [Point]\n",
    "steps = []\n",
    "for step in get_random_steps(N_steps):\n",
    "    steps.append(step)\n",
    "    # since steps are too small to show in the figure,\n",
    "    # let's scale the steps by a factor of 5\n",
    "    dtheta = (dtheta_step*step)*10\n",
    "    Theta = Thetas[-1] + dtheta\n",
    "    Point = get_coordinate(Theta, B, D, H, r)\n",
    "    Points.append(Point)\n",
    "    Thetas.append(Theta)"
   ]
  },
  {
   "cell_type": "code",
   "execution_count": 11,
   "metadata": {},
   "outputs": [
    {
     "name": "stdout",
     "output_type": "stream",
     "text": [
      "9.42477796076938 15.707963267948966\n",
      "[ 9  9 10 11]\n"
     ]
    }
   ],
   "source": [
    "print(3*np.pi, 5*np.pi)\n",
    "print(np.random.randint(3*np.pi, 5*np.pi, (4,)))"
   ]
  },
  {
   "cell_type": "code",
   "execution_count": 12,
   "metadata": {},
   "outputs": [],
   "source": [
    "import mpl_toolkits.mplot3d.axes3d as p3\n",
    "\n",
    "def animate_points(Points):\n",
    "    N_steps = len(Points) - 1\n",
    "    fig = plt.figure()\n",
    "    ax = fig.add_subplot(111, projection='3d')\n",
    "\n",
    "    # Initial settings for the plot\n",
    "    P0 = Points[0]\n",
    "    lines = [ax.plot((P[0], P0[0]), (P[1], P0[1]), zs=[P[2], P0[2]])[0] for P in Pulleys]\n",
    "    path = ax.plot((P0[0], P0[0]), (P0[1], P0[1]), zs=[P0[2], P0[2]])[0]\n",
    "    # Pulley rods\n",
    "    plot_base = 200\n",
    "    for p in Pulleys:\n",
    "        ax.plot((p[0], p[0]), (p[1], p[1]), zs=[p[2], plot_base], color='black')\n",
    "\n",
    "    # Creating the animation function and object\n",
    "    def update_lines(num, Points, lines, path):\n",
    "        Point = Points[num]\n",
    "        for i in range(num_pulleys):\n",
    "            # Redraw each rope\n",
    "            line = lines[i]\n",
    "            Pulley = Pulleys[i]\n",
    "            line.set_data_3d((Pulley[0], Point[0]),\n",
    "                             (Pulley[1], Point[1]),\n",
    "                             (Pulley[2], Point[2]))\n",
    "        # Trace the path of the robot\n",
    "        x, y, z = path.get_data_3d()\n",
    "        if num == 0:\n",
    "            path.set_data_3d([Point[0]], [Point[1]], [Point[2]])\n",
    "        else:\n",
    "            path.set_data_3d(np.append(x, Point[0]),\n",
    "                             np.append(y, Point[1]),\n",
    "                             np.append(z, Point[2]))\n",
    "        return lines\n",
    "    line_ani = animation.FuncAnimation(fig, update_lines, N_steps, fargs=(Points, lines, path),\n",
    "                                       repeat=False, blit=False)\n",
    "\n",
    "    ax.set_xlabel('X')\n",
    "    ax.set_ylabel('Y')\n",
    "    ax.set_zlabel('Z')\n",
    "    ax.set_xlim3d(0, B)\n",
    "    ax.set_ylim3d(0, D)\n",
    "    ax.set_zlim3d(plot_base, H)\n",
    "    # manually tweaked to get a nicer POV\n",
    "    ax.view_init(elev=8, azim=-108)\n",
    "    ax.dist = 8\n",
    "    return line_ani, fig"
   ]
  },
  {
   "cell_type": "code",
   "execution_count": 19,
   "metadata": {},
   "outputs": [
    {
     "data": {
      "application/vnd.jupyter.widget-view+json": {
       "model_id": "b39691a9d33e41caa45a9adb74f0d0ec",
       "version_major": 2,
       "version_minor": 0
      },
      "text/plain": [
       "Canvas(toolbar=Toolbar(toolitems=[('Home', 'Reset original view', 'home', 'home'), ('Back', 'Back to previous …"
      ]
     },
     "metadata": {},
     "output_type": "display_data"
    }
   ],
   "source": [
    "ani, fig = animate_points(Points)\n",
    "ani.save('anim.gif', writer='imagemagick', fps=10)"
   ]
  },
  {
   "cell_type": "markdown",
   "metadata": {},
   "source": [
    "A GIF of the above animation:\n",
    "\n",
    "![](anim.gif)"
   ]
  },
  {
   "cell_type": "markdown",
   "metadata": {},
   "source": [
    "Ultimately, what we need is a sequence of steps that gets us from point A to point B. This is complicated by many things:\n",
    "\n",
    "- maintaining stability of the platform\n",
    "- maintaining tension in the ropes\n",
    "- accounting for rope elasticity in the above\n",
    "- varying pulley radii, etc.\n",
    "\n",
    "Keeping reality aside, and keeping to the simple model we have used so far, a simple way to get the steps would be:\n",
    "\n",
    "1. Get $\\Theta$ for both points, and from there, $\\Delta\\Theta$.\n",
    "2. Scale $\\Delta\\Theta$ by $d\\theta_{step}$, to get the total step count for each pulley.\n",
    "3. Take the maximum step count, call it in $N$. This will be the number of elements in the output sequence.\n",
    "4. Distribute each step count over $N$ elements evenly.\n",
    "\n",
    "Let's take an example to better understand what (4) means. Let the total step count obtained in (2) be $(6, 3, 3, 1)$. So, pulley 1 has to rotate 6 steps, pulley 2 rotates 3 steps, etc.\n",
    "\n",
    "Our output, which will be a sequence of individual steps made by each pulley, will have at least 6 elements. It could look like\n",
    "\n",
    "```\n",
    "(1, 1, 1, 1)\n",
    "(1, 1, 1, 0)\n",
    "(1, 1, 1, 0)\n",
    "(1, 0, 0, 0)\n",
    "(1, 0, 0, 0)\n",
    "(1, 0, 0, 0)\n",
    "```\n",
    "But, we'd like the output to be more evenly distributed:\n",
    "\n",
    "```\n",
    "(1, 1, 1, 1)        (1, 1, 0, 1)\n",
    "(1, 0, 0, 0)        (1, 0, 1, 0)\n",
    "(1, 1, 1, 0)        (1, 1, 0, 0)\n",
    "(1, 0, 0, 0)   or   (1, 0, 1, 0)\n",
    "(1, 1, 1, 0)        (1, 1, 0, 0)\n",
    "(1, 0, 0, 0)        (1, 0, 1, 0)\n",
    "\n",
    "```\n",
    "\n",
    "The following simple function does this."
   ]
  },
  {
   "cell_type": "code",
   "execution_count": 14,
   "metadata": {},
   "outputs": [],
   "source": [
    "def get_steps_from_dTheta(total_step_counts):\n",
    "    \"\"\"\n",
    "    Return evenly distributed sequence of 1s and 0s\n",
    "    that sum up to the step counts needed for dTheta\n",
    "    \"\"\"\n",
    "    N = np.int64(np.ceil(max(total_step_counts)))\n",
    "    Nt = len(total_step_counts)\n",
    "    steps = [np.zeros(total_step_counts.size) for i in range(N)]\n",
    "    for j in range(Nt):\n",
    "        # np.linspace provides evenly spaced numbers\n",
    "        # we can use these numbers as indexes where steps are made\n",
    "        for i in np.linspace(0, N - 1, abs(total_step_counts[j])):\n",
    "            steps[np.int64(i)][j] = 1 if total_step_counts[j] > 0 else -1\n",
    "    return steps"
   ]
  },
  {
   "cell_type": "code",
   "execution_count": 15,
   "metadata": {},
   "outputs": [
    {
     "data": {
      "text/plain": [
       "[array([-1.,  1.,  1.,  0.]),\n",
       " array([-1.,  0.,  1.,  0.]),\n",
       " array([-1.,  1.,  1.,  0.]),\n",
       " array([0., 1., 1., 0.]),\n",
       " array([-1.,  0.,  1.,  0.]),\n",
       " array([-1.,  1.,  1.,  0.]),\n",
       " array([-1.,  0.,  1., -1.]),\n",
       " array([-1.,  1.,  1.,  0.]),\n",
       " array([0., 1., 1., 0.])]"
      ]
     },
     "execution_count": 15,
     "metadata": {},
     "output_type": "execute_result"
    }
   ],
   "source": [
    "coords1 = np.array([50, 100, 300])\n",
    "coords2 = np.array([20, 60, 270])\n",
    "\n",
    "Theta1 = get_thetas(coords1, B, D, H, r)\n",
    "Theta2 = get_thetas(coords2, B, D, H, r)\n",
    "\n",
    "dtheta_step2 = dtheta_step*10\n",
    "steps = get_steps_from_dTheta((Theta2 - Theta1)/dtheta_step2)\n",
    "steps[1:10]"
   ]
  },
  {
   "cell_type": "code",
   "execution_count": 16,
   "metadata": {},
   "outputs": [
    {
     "name": "stdout",
     "output_type": "stream",
     "text": [
      "[-418.03398875  327.64924073  522.08795794  -74.00333786] [-417.13369123  326.37657012  521.85344635  -73.30382858]\n",
      "[ 50 100 300] [ 50. 100. 300.]\n",
      "[ 20  60 270] [ 19.85455314  60.12348411 269.94046493]\n"
     ]
    },
    {
     "name": "stderr",
     "output_type": "stream",
     "text": [
      "/Users/muru/dev/agritech/ml/lib/python3.7/site-packages/ipykernel_launcher.py:13: RuntimeWarning: invalid value encountered in sqrt\n",
      "  del sys.path[0]\n"
     ]
    }
   ],
   "source": [
    "Theta = Theta1\n",
    "Point = get_coordinate(Theta, B, D, H, r)\n",
    "\n",
    "Thetas = [Theta]\n",
    "Points2 = [Point]\n",
    "for step in steps:\n",
    "    # since steps are too small to show in the figure,\n",
    "    # let's scale the steps by a factor of 5\n",
    "    dtheta = (dtheta_step2*step)\n",
    "    Theta = Thetas[-1] + dtheta\n",
    "    Point = get_coordinate(Theta, B, D, H, r)\n",
    "    Points2.append(Point)\n",
    "    Thetas.append(Theta)\n",
    "\n",
    "print(Theta2, Thetas[-1])\n",
    "print(coords1, Points2[0])\n",
    "print(coords2, Points2[-1])"
   ]
  },
  {
   "cell_type": "markdown",
   "metadata": {},
   "source": [
    "As you can see, the final point is quite close to the target point. Let's plot the animation for this. The function isn't perfect - at some steps, the pulleys have been rotated to invalid places. If you look closely, you cna also see that the movement is quite jerky."
   ]
  },
  {
   "cell_type": "code",
   "execution_count": 17,
   "metadata": {},
   "outputs": [
    {
     "data": {
      "application/vnd.jupyter.widget-view+json": {
       "model_id": "62d5bb249f29458aaa8720e0d55d6947",
       "version_major": 2,
       "version_minor": 0
      },
      "text/plain": [
       "Canvas(toolbar=Toolbar(toolitems=[('Home', 'Reset original view', 'home', 'home'), ('Back', 'Back to previous …"
      ]
     },
     "metadata": {},
     "output_type": "display_data"
    }
   ],
   "source": [
    "ani2, fig2 = animate_points(Points2)"
   ]
  }
 ],
 "metadata": {
  "kernelspec": {
   "display_name": "Python 3",
   "language": "python",
   "name": "python3"
  },
  "language_info": {
   "codemirror_mode": {
    "name": "ipython",
    "version": 3
   },
   "file_extension": ".py",
   "mimetype": "text/x-python",
   "name": "python",
   "nbconvert_exporter": "python",
   "pygments_lexer": "ipython3",
   "version": "3.7.4"
  }
 },
 "nbformat": 4,
 "nbformat_minor": 4
}
