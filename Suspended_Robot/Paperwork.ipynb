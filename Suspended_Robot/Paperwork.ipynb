{
 "cells": [
  {
   "cell_type": "markdown",
   "metadata": {},
   "source": [
    "# Expanding the robot\n",
    "\n",
    "Our initial simplification had the robot a point - well, the ropes met a point. The real robot has dimensions, and the ropes are tied to four corners of the robot. Let's assume:\n",
    "\n",
    "- a box, with the ropes tied to the upper face, and the claw at the centroid of the lower face\n",
    "- the box dimensions are $2b \\times 2d \\times h$ \n",
    "  - the factor of 2 is for convenience in the equations: instead of $x - \\frac{b'}{2}$, we can use $x - b$\n",
    "- the claw is at $(x, y, z)$.\n",
    "\n",
    "![](robot-rect.png)\n"
   ]
  },
  {
   "cell_type": "markdown",
   "metadata": {},
   "source": [
    "Then, our original equations for $l_i$ become:\n",
    "\n",
    "$$\n",
    "\\begin{align}\n",
    "l_1^2 &=& (0 - (x - b))^2 + (0 - (y - d))^2 + (H - (z + h))^2 &=& (x - b)^2 + (y - d)^2 + (H - h - z)^2 \\\\\n",
    "l_2^2 &=& (0 - (x - b))^2 + (D - (y + d))^2 + (H - (z + h))^2 &=& (x - b)^2 + (D - d - y)^2 + (H - h - z)^2 \\\\\n",
    "l_3^2 &=& (B - (x + b))^2 + (D - (y + d))^2 + (H - (z + h))^2 &=& (B - b - x)^2 + (D - d - y)^2 + (H - h - z)^2 \\\\\n",
    "l_4^2 &=& (B - (x + b))^2 + (0 - (y - d))^2 + (H - (z + h))^2 &=& (B - b - x)^2 + (y - d)^2 + (H - h - z)^2\n",
    "\\end{align}\n",
    "$$\n",
    "\n",
    "As before, we can subtract pairs of equations to eliminate two of $x, y, z$ and get the remaining one:\n",
    "\n",
    "\n",
    "$$\n",
    "\\begin{align}\n",
    "l_1^2 - l_2^2 &=& (y - d)^2 - (D - d - y)^2 \\\\ \n",
    " &=& (y - d + D - d - y)(y - d - D + d + y)\\\\ \n",
    " &=& (D - 2d)(D + 2y) \\\\\n",
    "\\therefore y &=& \\frac{1}{2}\\left(\\frac{l_1^2 - l_2^2}{D - 2d} - D\\right)\n",
    "\\end{align}\n",
    "$$\n",
    "\n",
    "Similarly, for $x$:\n",
    "\n",
    "\n",
    "$$\n",
    "\\begin{align}\n",
    "l_2^2 - l_3^2 &=& (x - b)^2 - (B - b - x)^2 \\\\ \n",
    " &=& (x - b + B - b - x)(x - b - B + b + x)\\\\ \n",
    " &=& (B - 2b)(B + 2x) \\\\\n",
    "\\therefore x &=& \\frac{1}{2}\\left(\\frac{l_2^2 - l_3^2}{B - 2b} - B\\right)\n",
    "\\end{align}\n",
    "$$\n",
    "\n",
    "While the equations for $x$ and $y$ have changed a bit, the constraint on the rope lengths remains the same:\n",
    "\n",
    "$$\n",
    "l_1^2 - l_2^2 = l_4^2 - l_3^2\n",
    "$$"
   ]
  },
  {
   "cell_type": "code",
   "execution_count": null,
   "metadata": {},
   "outputs": [],
   "source": []
  }
 ],
 "metadata": {
  "kernelspec": {
   "display_name": "Python 3",
   "language": "python",
   "name": "python3"
  },
  "language_info": {
   "codemirror_mode": {
    "name": "ipython",
    "version": 3
   },
   "file_extension": ".py",
   "mimetype": "text/x-python",
   "name": "python",
   "nbconvert_exporter": "python",
   "pygments_lexer": "ipython3",
   "version": "3.7.4"
  }
 },
 "nbformat": 4,
 "nbformat_minor": 4
}
