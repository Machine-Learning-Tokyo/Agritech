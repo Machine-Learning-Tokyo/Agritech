{
 "cells": [
  {
   "cell_type": "code",
   "execution_count": null,
   "metadata": {
    "colab": {},
    "colab_type": "code",
    "id": "56cLKnq550UW"
   },
   "outputs": [],
   "source": [
    "import pandas as pd\n",
    "import numpy as np\n",
    "import re\n",
    "import os\n",
    "from datetime import datetime\n",
    "\n",
    "import matplotlib.pyplot as plt\n",
    "\n",
    "from keras.models import Sequential,Model\n",
    "from keras.layers import Dense\n",
    "import keras.optimizers as optimizers\n",
    "from keras.callbacks import ModelCheckpoint\n",
    "from keras.regularizers import l2"
   ]
  },
  {
   "cell_type": "code",
   "execution_count": null,
   "metadata": {
    "colab": {},
    "colab_type": "code",
    "id": "gGzZxgXf6UhI"
   },
   "outputs": [],
   "source": [
    "X = np.load(\"suspended_robot_X_data.npy\",allow_pickle=True)\n",
    "Y = np.load(\"suspended_robot_Y_data.npy\",allow_pickle=True)"
   ]
  },
  {
   "cell_type": "code",
   "execution_count": 34,
   "metadata": {
    "colab": {
     "base_uri": "https://localhost:8080/",
     "height": 34
    },
    "colab_type": "code",
    "executionInfo": {
     "elapsed": 498,
     "status": "ok",
     "timestamp": 1566796394843,
     "user": {
      "displayName": "Anugraha Sinha",
      "photoUrl": "https://lh3.googleusercontent.com/a-/AAuE7mCkwiH-YaZ7CgDKMipr7dM1-1R8QSVsBVHEUBBRjg=s64",
      "userId": "05693439876093633965"
     },
     "user_tz": -540
    },
    "id": "cbSdOnkJ6ZZn",
    "outputId": "ff9082e5-6cab-44c4-c861-d4ff8ac68391"
   },
   "outputs": [
    {
     "data": {
      "text/plain": [
       "((442368, 10), (442368, 1))"
      ]
     },
     "execution_count": 34,
     "metadata": {
      "tags": []
     },
     "output_type": "execute_result"
    }
   ],
   "source": [
    "X.shape, Y.shape"
   ]
  },
  {
   "cell_type": "code",
   "execution_count": null,
   "metadata": {
    "colab": {},
    "colab_type": "code",
    "id": "TB2ic68kE2Ke"
   },
   "outputs": [],
   "source": [
    "from sklearn.model_selection import train_test_split"
   ]
  },
  {
   "cell_type": "code",
   "execution_count": null,
   "metadata": {
    "colab": {},
    "colab_type": "code",
    "id": "IPJQFgfbWI7K"
   },
   "outputs": [],
   "source": [
    "X_train, X_test, Y_train, Y_test = train_test_split(X,Y,train_size=0.7,test_size=0.3,random_state=100,shuffle=True)"
   ]
  },
  {
   "cell_type": "code",
   "execution_count": 37,
   "metadata": {
    "colab": {
     "base_uri": "https://localhost:8080/",
     "height": 34
    },
    "colab_type": "code",
    "executionInfo": {
     "elapsed": 464,
     "status": "ok",
     "timestamp": 1566796582266,
     "user": {
      "displayName": "Anugraha Sinha",
      "photoUrl": "https://lh3.googleusercontent.com/a-/AAuE7mCkwiH-YaZ7CgDKMipr7dM1-1R8QSVsBVHEUBBRjg=s64",
      "userId": "05693439876093633965"
     },
     "user_tz": -540
    },
    "id": "jok40BfAWkkK",
    "outputId": "1d788746-fc4d-44e3-d898-380ea9ab7919"
   },
   "outputs": [
    {
     "data": {
      "text/plain": [
       "((309657, 10), (309657, 1), (132711, 10), (132711, 1))"
      ]
     },
     "execution_count": 37,
     "metadata": {
      "tags": []
     },
     "output_type": "execute_result"
    }
   ],
   "source": [
    "X_train.shape,Y_train.shape,X_test.shape,Y_test.shape"
   ]
  },
  {
   "cell_type": "code",
   "execution_count": 69,
   "metadata": {
    "colab": {
     "base_uri": "https://localhost:8080/",
     "height": 283
    },
    "colab_type": "code",
    "executionInfo": {
     "elapsed": 555,
     "status": "ok",
     "timestamp": 1566801928365,
     "user": {
      "displayName": "Anugraha Sinha",
      "photoUrl": "https://lh3.googleusercontent.com/a-/AAuE7mCkwiH-YaZ7CgDKMipr7dM1-1R8QSVsBVHEUBBRjg=s64",
      "userId": "05693439876093633965"
     },
     "user_tz": -540
    },
    "id": "o6OOFyl7Woq5",
    "outputId": "bf9d99ee-a6b4-4a30-a6aa-cfb906c7e1df"
   },
   "outputs": [
    {
     "name": "stdout",
     "output_type": "stream",
     "text": [
      "_________________________________________________________________\n",
      "Layer (type)                 Output Shape              Param #   \n",
      "=================================================================\n",
      "dense_9 (Dense)              (None, 100)               1100      \n",
      "_________________________________________________________________\n",
      "dense_10 (Dense)             (None, 50)                5050      \n",
      "_________________________________________________________________\n",
      "dense_11 (Dense)             (None, 5)                 255       \n",
      "_________________________________________________________________\n",
      "dense_12 (Dense)             (None, 1)                 6         \n",
      "=================================================================\n",
      "Total params: 6,411\n",
      "Trainable params: 6,411\n",
      "Non-trainable params: 0\n",
      "_________________________________________________________________\n"
     ]
    }
   ],
   "source": [
    "model = Sequential()\n",
    "model.add(Dense(100,input_dim = X_train.shape[1],activation=\"relu\"))\n",
    "model.add(Dense(50,activation=\"relu\"))\n",
    "model.add(Dense(5,activation=\"relu\"))\n",
    "model.add(Dense(Y_train.shape[1],activation=\"linear\"))\n",
    "\n",
    "optimizer = optimizers.adam(lr=0.01)\n",
    "model.compile(optimizer = optimizer,loss=\"mean_squared_error\",metrics=[\"mse\",\"mae\"])\n",
    "model.summary()"
   ]
  },
  {
   "cell_type": "code",
   "execution_count": null,
   "metadata": {
    "colab": {},
    "colab_type": "code",
    "id": "05txiNdmqkBf"
   },
   "outputs": [],
   "source": [
    "from datetime import datetime\n",
    "curr_date_time = datetime.now()\n",
    "model_name = \"SuspendedBot_\" + \"_\" + str(curr_date_time).replace(' ','').replace(':','_') + '/'\n",
    "if not os.path.exists(model_name):\n",
    "    os.mkdir(model_name)\n",
    "    \n",
    "filepath = model_name + '_' + 'model-' + '{epoch:05d}-{loss:.5f}-{val_loss:.5f}.h5'\n",
    "checkpoint = ModelCheckpoint(filepath, monitor='val_loss', verbose=1, save_best_only=True, save_weights_only=False, mode='auto', period=1)\n",
    "callbacks_list = [checkpoint]"
   ]
  },
  {
   "cell_type": "code",
   "execution_count": 72,
   "metadata": {
    "colab": {
     "base_uri": "https://localhost:8080/",
     "height": 765
    },
    "colab_type": "code",
    "executionInfo": {
     "elapsed": 56566,
     "status": "ok",
     "timestamp": 1566802026100,
     "user": {
      "displayName": "Anugraha Sinha",
      "photoUrl": "https://lh3.googleusercontent.com/a-/AAuE7mCkwiH-YaZ7CgDKMipr7dM1-1R8QSVsBVHEUBBRjg=s64",
      "userId": "05693439876093633965"
     },
     "user_tz": -540
    },
    "id": "RIB75n4aZBNV",
    "outputId": "ffa2f7ba-ae9f-498e-fa54-d0edcee20695"
   },
   "outputs": [
    {
     "name": "stdout",
     "output_type": "stream",
     "text": [
      "Train on 309657 samples, validate on 132711 samples\n",
      "Epoch 1/10\n",
      "309657/309657 [==============================] - 6s 18us/step - loss: 0.0269 - mean_squared_error: 0.0269 - mean_absolute_error: 0.0755 - val_loss: 0.0022 - val_mean_squared_error: 0.0022 - val_mean_absolute_error: 0.0344\n",
      "\n",
      "Epoch 00001: val_loss improved from inf to 0.00222, saving model to SuspendedBot__2019-08-2606_45_43.820505/_model-00001-0.02686-0.00222.h5\n",
      "Epoch 2/10\n",
      "309657/309657 [==============================] - 5s 17us/step - loss: 0.0023 - mean_squared_error: 0.0023 - mean_absolute_error: 0.0359 - val_loss: 0.0023 - val_mean_squared_error: 0.0023 - val_mean_absolute_error: 0.0401\n",
      "\n",
      "Epoch 00002: val_loss did not improve from 0.00222\n",
      "Epoch 3/10\n",
      "309657/309657 [==============================] - 5s 17us/step - loss: 0.0017 - mean_squared_error: 0.0017 - mean_absolute_error: 0.0318 - val_loss: 0.0018 - val_mean_squared_error: 0.0018 - val_mean_absolute_error: 0.0362\n",
      "\n",
      "Epoch 00003: val_loss improved from 0.00222 to 0.00183, saving model to SuspendedBot__2019-08-2606_45_43.820505/_model-00003-0.00175-0.00183.h5\n",
      "Epoch 4/10\n",
      "309657/309657 [==============================] - 5s 18us/step - loss: 0.0014 - mean_squared_error: 0.0014 - mean_absolute_error: 0.0283 - val_loss: 0.0034 - val_mean_squared_error: 0.0034 - val_mean_absolute_error: 0.0541\n",
      "\n",
      "Epoch 00004: val_loss did not improve from 0.00183\n",
      "Epoch 5/10\n",
      "309657/309657 [==============================] - 5s 18us/step - loss: 0.0012 - mean_squared_error: 0.0012 - mean_absolute_error: 0.0265 - val_loss: 0.0013 - val_mean_squared_error: 0.0013 - val_mean_absolute_error: 0.0294\n",
      "\n",
      "Epoch 00005: val_loss improved from 0.00183 to 0.00125, saving model to SuspendedBot__2019-08-2606_45_43.820505/_model-00005-0.00124-0.00125.h5\n",
      "Epoch 6/10\n",
      "309657/309657 [==============================] - 6s 19us/step - loss: 0.0011 - mean_squared_error: 0.0011 - mean_absolute_error: 0.0254 - val_loss: 7.7737e-04 - val_mean_squared_error: 7.7737e-04 - val_mean_absolute_error: 0.0217\n",
      "\n",
      "Epoch 00006: val_loss improved from 0.00125 to 0.00078, saving model to SuspendedBot__2019-08-2606_45_43.820505/_model-00006-0.00114-0.00078.h5\n",
      "Epoch 7/10\n",
      "309657/309657 [==============================] - 6s 18us/step - loss: 9.8553e-04 - mean_squared_error: 9.8553e-04 - mean_absolute_error: 0.0238 - val_loss: 4.9447e-04 - val_mean_squared_error: 4.9447e-04 - val_mean_absolute_error: 0.0171\n",
      "\n",
      "Epoch 00007: val_loss improved from 0.00078 to 0.00049, saving model to SuspendedBot__2019-08-2606_45_43.820505/_model-00007-0.00099-0.00049.h5\n",
      "Epoch 8/10\n",
      "309657/309657 [==============================] - 5s 18us/step - loss: 9.3820e-04 - mean_squared_error: 9.3820e-04 - mean_absolute_error: 0.0229 - val_loss: 5.3040e-04 - val_mean_squared_error: 5.3040e-04 - val_mean_absolute_error: 0.0176\n",
      "\n",
      "Epoch 00008: val_loss did not improve from 0.00049\n",
      "Epoch 9/10\n",
      "309657/309657 [==============================] - 5s 18us/step - loss: 8.6078e-04 - mean_squared_error: 8.6078e-04 - mean_absolute_error: 0.0220 - val_loss: 0.0010 - val_mean_squared_error: 0.0010 - val_mean_absolute_error: 0.0271\n",
      "\n",
      "Epoch 00009: val_loss did not improve from 0.00049\n",
      "Epoch 10/10\n",
      "309657/309657 [==============================] - 6s 18us/step - loss: 8.3439e-04 - mean_squared_error: 8.3439e-04 - mean_absolute_error: 0.0216 - val_loss: 3.6169e-04 - val_mean_squared_error: 3.6169e-04 - val_mean_absolute_error: 0.0145\n",
      "\n",
      "Epoch 00010: val_loss improved from 0.00049 to 0.00036, saving model to SuspendedBot__2019-08-2606_45_43.820505/_model-00010-0.00083-0.00036.h5\n"
     ]
    }
   ],
   "source": [
    "epoch_len = 10\n",
    "model_history = model.fit(x=X_train,\n",
    "          y=Y_train,\n",
    "          epochs = epoch_len,\n",
    "          verbose = 1,\n",
    "          validation_data = (X_test,Y_test),\n",
    "          batch_size = 100,\n",
    "          callbacks = callbacks_list)"
   ]
  },
  {
   "cell_type": "code",
   "execution_count": 74,
   "metadata": {
    "colab": {
     "base_uri": "https://localhost:8080/",
     "height": 294
    },
    "colab_type": "code",
    "executionInfo": {
     "elapsed": 795,
     "status": "ok",
     "timestamp": 1566802097162,
     "user": {
      "displayName": "Anugraha Sinha",
      "photoUrl": "https://lh3.googleusercontent.com/a-/AAuE7mCkwiH-YaZ7CgDKMipr7dM1-1R8QSVsBVHEUBBRjg=s64",
      "userId": "05693439876093633965"
     },
     "user_tz": -540
    },
    "id": "hzlHfQxnrexz",
    "outputId": "b754494a-cf05-4f7e-c4a6-d987efcd0728"
   },
   "outputs": [
    {
     "data": {
      "image/png": "[encoded data removed]",
      "text/plain": [
       "<Figure size 432x288 with 1 Axes>"
      ]
     },
     "metadata": {
      "tags": []
     },
     "output_type": "display_data"
    }
   ],
   "source": [
    "plt.plot(range(0,epoch_len,1),model_history.history[\"loss\"])\n",
    "plt.plot(range(0,epoch_len,1),model_history.history[\"val_loss\"])\n",
    "plt.legend([\"Train Loss\",\"Val Loss\"])\n",
    "plt.xlabel(\"Epochs\")\n",
    "plt.ylabel(\"Loss (%)\")\n",
    "plt.title(\"Loss Graph\")\n",
    "plt.show()"
   ]
  },
  {
   "cell_type": "code",
   "execution_count": 83,
   "metadata": {
    "colab": {
     "base_uri": "https://localhost:8080/",
     "height": 34
    },
    "colab_type": "code",
    "executionInfo": {
     "elapsed": 515,
     "status": "ok",
     "timestamp": 1566802439996,
     "user": {
      "displayName": "Anugraha Sinha",
      "photoUrl": "https://lh3.googleusercontent.com/a-/AAuE7mCkwiH-YaZ7CgDKMipr7dM1-1R8QSVsBVHEUBBRjg=s64",
      "userId": "05693439876093633965"
     },
     "user_tz": -540
    },
    "id": "J0Ky3mYgrsJn",
    "outputId": "022ba0c2-e740-4c1d-b187-db5b015a8890"
   },
   "outputs": [
    {
     "name": "stdout",
     "output_type": "stream",
     "text": [
      "Minimum Validation Loss = 0.000362 achieved at epoch iteration = 10\n"
     ]
    }
   ],
   "source": [
    "print(\"Minimum Validation Loss = %f achieved at epoch iteration = %d\" %(np.array(model_history.history[\"val_loss\"]).min(),np.array(model_history.history[\"val_loss\"]).argmin() + 1))\n",
    "sel_model_idx = np.array(model_history.history[\"val_loss\"]).argmin() + 1"
   ]
  },
  {
   "cell_type": "code",
   "execution_count": 85,
   "metadata": {
    "colab": {
     "base_uri": "https://localhost:8080/",
     "height": 34
    },
    "colab_type": "code",
    "executionInfo": {
     "elapsed": 500,
     "status": "ok",
     "timestamp": 1566802541745,
     "user": {
      "displayName": "Anugraha Sinha",
      "photoUrl": "https://lh3.googleusercontent.com/a-/AAuE7mCkwiH-YaZ7CgDKMipr7dM1-1R8QSVsBVHEUBBRjg=s64",
      "userId": "05693439876093633965"
     },
     "user_tz": -540
    },
    "id": "youl1P9CtGBj",
    "outputId": "c327d557-f135-497d-b589-892ecc9551cb"
   },
   "outputs": [
    {
     "name": "stdout",
     "output_type": "stream",
     "text": [
      "Selected model name : SuspendedBot__2019-08-2606_45_43.820505/_model-00010-0.00083-0.00036.h5\n"
     ]
    }
   ],
   "source": [
    "search_string = \"model-0*\" + str(sel_model_idx) + \"-[a-z0-9\\-\\.]*\"\n",
    "selected_model_name = model_name + list(filter(lambda x: re.search(search_string,x),os.listdir(model_name)))[0]\n",
    "print(\"Selected model name : %s\" %(selected_model_name))"
   ]
  },
  {
   "cell_type": "code",
   "execution_count": null,
   "metadata": {
    "colab": {},
    "colab_type": "code",
    "id": "SGRqSoUDtZIC"
   },
   "outputs": [],
   "source": [
    "from keras.models import clone_model\n",
    "selected_model = clone_model(model)\n",
    "selected_model.load_weights(selected_model_name)"
   ]
  },
  {
   "cell_type": "code",
   "execution_count": null,
   "metadata": {
    "colab": {},
    "colab_type": "code",
    "id": "q4EG0d1dZYyz"
   },
   "outputs": [],
   "source": [
    "Y_test_pred = selected_model.predict(X_test)"
   ]
  },
  {
   "cell_type": "code",
   "execution_count": null,
   "metadata": {
    "colab": {},
    "colab_type": "code",
    "id": "ndMt4JQVjBQV"
   },
   "outputs": [],
   "source": [
    "error = Y_test - Y_test_pred"
   ]
  },
  {
   "cell_type": "code",
   "execution_count": 89,
   "metadata": {
    "colab": {
     "base_uri": "https://localhost:8080/",
     "height": 268
    },
    "colab_type": "code",
    "executionInfo": {
     "elapsed": 780,
     "status": "ok",
     "timestamp": 1566802579860,
     "user": {
      "displayName": "Anugraha Sinha",
      "photoUrl": "https://lh3.googleusercontent.com/a-/AAuE7mCkwiH-YaZ7CgDKMipr7dM1-1R8QSVsBVHEUBBRjg=s64",
      "userId": "05693439876093633965"
     },
     "user_tz": -540
    },
    "id": "jm7Zxy4fjFdd",
    "outputId": "6534dbec-12ae-440c-9e90-a8a77a061f48"
   },
   "outputs": [
    {
     "data": {
      "image/png": "[encoded data removed]",
      "text/plain": [
       "<Figure size 432x288 with 1 Axes>"
      ]
     },
     "metadata": {
      "tags": []
     },
     "output_type": "display_data"
    }
   ],
   "source": [
    "import matplotlib.pyplot as plt\n",
    "plt.plot(Y_test,error,\"r+\",markersize=1)\n",
    "plt.show()"
   ]
  },
  {
   "cell_type": "code",
   "execution_count": 90,
   "metadata": {
    "colab": {
     "base_uri": "https://localhost:8080/",
     "height": 268
    },
    "colab_type": "code",
    "executionInfo": {
     "elapsed": 917,
     "status": "ok",
     "timestamp": 1566802584804,
     "user": {
      "displayName": "Anugraha Sinha",
      "photoUrl": "https://lh3.googleusercontent.com/a-/AAuE7mCkwiH-YaZ7CgDKMipr7dM1-1R8QSVsBVHEUBBRjg=s64",
      "userId": "05693439876093633965"
     },
     "user_tz": -540
    },
    "id": "vW9QGzHIjMrp",
    "outputId": "c9235994-054d-4598-c342-fd1b687f27a7"
   },
   "outputs": [
    {
     "data": {
      "image/png": "[encoded data removed]",
      "text/plain": [
       "<Figure size 432x288 with 1 Axes>"
      ]
     },
     "metadata": {
      "tags": []
     },
     "output_type": "display_data"
    }
   ],
   "source": [
    "plt.hist(error,bins=100)\n",
    "plt.show()"
   ]
  },
  {
   "cell_type": "code",
   "execution_count": null,
   "metadata": {
    "colab": {},
    "colab_type": "code",
    "id": "e4R6lY2njVGH"
   },
   "outputs": [],
   "source": [
    "import pickle\n",
    "with open(\"Y_theta_value_scalar.pkl\",\"rb\") as f:\n",
    "    scalar_obj = pickle.load(f)"
   ]
  },
  {
   "cell_type": "code",
   "execution_count": null,
   "metadata": {
    "colab": {},
    "colab_type": "code",
    "id": "o1wTfuHjk3u4"
   },
   "outputs": [],
   "source": [
    "Y_test_unscaled = scalar_obj.inverse_transform(Y_test)\n",
    "Y_test_pred_unscaled = scalar_obj.inverse_transform(Y_test_pred)\n",
    "error_unscaled = Y_test_unscaled - Y_test_pred_unscaled"
   ]
  },
  {
   "cell_type": "code",
   "execution_count": 93,
   "metadata": {
    "colab": {
     "base_uri": "https://localhost:8080/",
     "height": 268
    },
    "colab_type": "code",
    "executionInfo": {
     "elapsed": 717,
     "status": "ok",
     "timestamp": 1566802592109,
     "user": {
      "displayName": "Anugraha Sinha",
      "photoUrl": "https://lh3.googleusercontent.com/a-/AAuE7mCkwiH-YaZ7CgDKMipr7dM1-1R8QSVsBVHEUBBRjg=s64",
      "userId": "05693439876093633965"
     },
     "user_tz": -540
    },
    "id": "XpoCrRjslGAN",
    "outputId": "e51abd0d-49ea-4372-fd30-5d089206a058"
   },
   "outputs": [
    {
     "data": {
      "image/png": "[encoded data removed]",
      "text/plain": [
       "<Figure size 432x288 with 1 Axes>"
      ]
     },
     "metadata": {
      "tags": []
     },
     "output_type": "display_data"
    }
   ],
   "source": [
    "plt.plot(Y_test_unscaled,error_unscaled,\"r+\",markersize=1)\n",
    "plt.show()"
   ]
  },
  {
   "cell_type": "code",
   "execution_count": 94,
   "metadata": {
    "colab": {
     "base_uri": "https://localhost:8080/",
     "height": 268
    },
    "colab_type": "code",
    "executionInfo": {
     "elapsed": 786,
     "status": "ok",
     "timestamp": 1566802595676,
     "user": {
      "displayName": "Anugraha Sinha",
      "photoUrl": "https://lh3.googleusercontent.com/a-/AAuE7mCkwiH-YaZ7CgDKMipr7dM1-1R8QSVsBVHEUBBRjg=s64",
      "userId": "05693439876093633965"
     },
     "user_tz": -540
    },
    "id": "l7Ykk31plNuz",
    "outputId": "4eccd420-fb4b-4974-d8de-277f42cd5a6e"
   },
   "outputs": [
    {
     "data": {
      "image/png": "[encoded data removed]",
      "text/plain": [
       "<Figure size 432x288 with 1 Axes>"
      ]
     },
     "metadata": {
      "tags": []
     },
     "output_type": "display_data"
    }
   ],
   "source": [
    "plt.hist(error_unscaled,bins=100)\n",
    "plt.show()"
   ]
  },
  {
   "cell_type": "code",
   "execution_count": null,
   "metadata": {
    "colab": {},
    "colab_type": "code",
    "id": "Vh3AzFykmXRz"
   },
   "outputs": [],
   "source": []
  }
 ],
 "metadata": {
  "colab": {
   "collapsed_sections": [],
   "name": "modelling.ipynb",
   "provenance": [],
   "version": "0.3.2"
  },
  "kernelspec": {
   "display_name": "Python 3",
   "language": "python",
   "name": "python3"
  },
  "language_info": {
   "codemirror_mode": {
    "name": "ipython",
    "version": 3
   },
   "file_extension": ".py",
   "mimetype": "text/x-python",
   "name": "python",
   "nbconvert_exporter": "python",
   "pygments_lexer": "ipython3",
   "version": "3.6.0"
  }
 },
 "nbformat": 4,
 "nbformat_minor": 2
}
