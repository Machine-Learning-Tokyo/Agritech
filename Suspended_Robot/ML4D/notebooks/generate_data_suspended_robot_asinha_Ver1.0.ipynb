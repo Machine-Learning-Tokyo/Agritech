{
 "cells": [
  {
   "cell_type": "code",
   "execution_count": null,
   "metadata": {
    "colab": {},
    "colab_type": "code",
    "id": "_5_Kcg6RbRee"
   },
   "outputs": [],
   "source": [
    "import numpy as np\n",
    "import itertools"
   ]
  },
  {
   "cell_type": "code",
   "execution_count": null,
   "metadata": {
    "colab": {},
    "colab_type": "code",
    "id": "7xy3b_DWcEwB"
   },
   "outputs": [],
   "source": [
    "num_pulleys=4"
   ]
  },
  {
   "cell_type": "markdown",
   "metadata": {
    "colab_type": "text",
    "id": "icvhmYRebRet"
   },
   "source": [
    "### Representation used for this code development ###"
   ]
  },
  {
   "cell_type": "markdown",
   "metadata": {
    "colab_type": "text",
    "id": "Oh1-YtEubRev"
   },
   "source": [
    "![](../img/string_coordinate_representation_img_1.JPG)"
   ]
  },
  {
   "cell_type": "markdown",
   "metadata": {
    "colab_type": "text",
    "id": "WR7YKAj4bRew"
   },
   "source": [
    "#### `get_li` ####\n",
    "\n",
    "For getting inital $L_i$, we assume that the bot is at the `top-center`. With this assumption, we only need to consider `B & D` metrics for calculating $L_i$\n",
    "\n"
   ]
  },
  {
   "cell_type": "code",
   "execution_count": null,
   "metadata": {
    "colab": {},
    "colab_type": "code",
    "id": "VYLx1wU1bRex"
   },
   "outputs": [],
   "source": [
    "def get_Li(B, D):\n",
    "    \"\"\"\n",
    "    The inital length of strings based on B and D\n",
    "    \"\"\"\n",
    "    return 0.5*np.sqrt(B**2 + D**2)"
   ]
  },
  {
   "cell_type": "markdown",
   "metadata": {
    "colab_type": "text",
    "id": "RdWKNZZJbRe6"
   },
   "source": [
    "### TODO\n",
    " - [ ] We need to account for 360 degree rotation here\n",
    "    - Are you talking about the decrease in radius each time the pulley rotates completely?\n",
    " - [x] We need to have a reverse calculation done, i.e. given a $x_i,y_i,z_i$ & $x_f,y_f,z_f$ we need to find out what the inital and final thetas. But more on that later."
   ]
  },
  {
   "cell_type": "markdown",
   "metadata": {
    "colab_type": "text",
    "id": "9GbnlaF-bRe7"
   },
   "source": [
    "#### `get_final_string_length` ####\n",
    "Considering that we have an inital length available, `delta_thetas` given, this function would provide what would be the final length if the pulleys are moved by `delta_theta`\n",
    "\n",
    "$$ L_f = L_i + r_i\\Delta\\theta_i $$\n",
    "\n",
    "#### `get_theta_from_string_length` ####\n",
    "If we have final length $L_f$ and inital string length $L_i$ and the radius of the pulleys, then we can find the `delta_thetas` moved by the pulleys\n",
    "\n",
    "<h4 style=\"color:red\">NOTE</h4>\n",
    "Remember, $L_i$ and & $L_f$ are array/list, so the output would also be array/list each corresponding to individual pulleys."
   ]
  },
  {
   "cell_type": "code",
   "execution_count": null,
   "metadata": {
    "colab": {},
    "colab_type": "code",
    "id": "ZBvyotm5bRe7"
   },
   "outputs": [],
   "source": [
    "def get_final_string_length(Li, r, delta_thetas=np.zeros((1,num_pulleys))):\n",
    "    \"\"\"\n",
    "    The final length of strings which need to be achieved for \n",
    "    reaching a specific location (based on thetas).\n",
    "    \"\"\"\n",
    "    return Li + r*delta_thetas\n",
    "\n",
    "def get_theta_from_string_length(Lf, Li, r):\n",
    "    \"\"\"\n",
    "    Given some string lengths Lf and initial lengths Li, return\n",
    "    the rotation of the pulleys\n",
    "    \"\"\"\n",
    "    return (Lf - Li)/r"
   ]
  },
  {
   "cell_type": "markdown",
   "metadata": {
    "colab_type": "text",
    "id": "Z2BWbT6PbRe-"
   },
   "source": [
    "#### `get_coordinate` ####\n",
    "Assumption:\n",
    "We start from the top of the board, therefore the $L_i$ is same for all strings\n",
    "\n",
    "1. We take the initial $L_i$ for all strings\n",
    "2. We are given the `thetas` that the pulley moved\n",
    "3. We use initial $L_i$ and `thetas` to get final lengths\n",
    "\n",
    "Then we use following formulas for getting coordinates of the final place the bot moved to\n",
    "\n",
    "\\begin{align}\n",
    "y &= \\frac{l_1^2 - l_2^2 + D^2}{2D} \\\\\n",
    "x &= \\frac{l_2^2 - l_3^2 + B^2}{2B}\n",
    "\\end{align}\n",
    "\n",
    "\\begin{aligned}\n",
    "l_1^2 &= (0 - x)^2 + (0 - y)^2 + (H - z)^2 \\\\ &= x^2 + y^2 + (H - z)^2\n",
    "\\end{aligned}\n",
    "\n",
    "\\begin{aligned}\n",
    "(H - z)^2 = l_1^2 - x^2 - y^2\\\\\n",
    "\\end{aligned}\n",
    "\n",
    "$(H - z)^2$ = Hz2 (Python variable)\n"
   ]
  },
  {
   "cell_type": "code",
   "execution_count": null,
   "metadata": {
    "colab": {},
    "colab_type": "code",
    "id": "fbVuzpWobRe_"
   },
   "outputs": [],
   "source": [
    "def get_coordinate(thetas, B, D, H, r):\n",
    "    \"\"\"\n",
    "    thetas: numpy array of rotations, shape: (num_arrays, )\n",
    "    B, D, H, r: scalar constants\n",
    "    \"\"\"\n",
    "    Li = get_Li(B, D)\n",
    "    l = get_final_string_length(Li, r, thetas)\n",
    "    x = (l[1]**2 - l[2]**2 + B**2)/(2*B)\n",
    "    y = (l[0]**2 - l[1]**2 + D**2)/(2*D)\n",
    "    Hz2 = l[0]**2 - x**2 - y**2 # (H-z)^2, eqn 1\n",
    "    # Is it taut?\n",
    "    # print(l[0]**2 - l[3]**2, l[1]**2 - l[2]**2)\n",
    "    z = H - np.sqrt(Hz2)\n",
    "    return np.array([x, y, z])"
   ]
  },
  {
   "cell_type": "markdown",
   "metadata": {
    "colab_type": "text",
    "id": "vUK9gJN-bRfB"
   },
   "source": [
    "### `get_thetas` ###\n",
    "<p style=\"color:red\">We assume that we always start from the `top` center of the construct that you see on the top.</p>\n",
    "\n",
    "With the above assumption, the inital length of strings would be taken from `get_Li(B,D)` function.\n",
    "If we are given the final co-ordinates (x,y,z), we can fund the $Lf$ using following formulas\n",
    "\n",
    "\\begin{align}\n",
    "\\begin{aligned}\n",
    "l_1^2 &= x^2 + y^2 + (H - z)^2\n",
    "\\end{aligned} \\\\\n",
    "\\begin{aligned}\n",
    "l_2^2 &= x^2 + (D - y)^2 + (H - z)^2\n",
    "\\end{aligned} \\\\\n",
    "\\begin{aligned}\n",
    "l_3^2 &= (B - x)^2 + (D - y)^2 + (H - z)^2\n",
    "\\end{aligned} \\\\\n",
    "\\begin{aligned}\n",
    "l_4^2 &= (B - x)^2 + y^2 + (H - z)^2\n",
    "\\end{aligned} \\\\\n",
    "\\end{align}\n",
    "\n",
    "python variable $Hz2 = (H - Z)^2$"
   ]
  },
  {
   "cell_type": "code",
   "execution_count": null,
   "metadata": {
    "colab": {},
    "colab_type": "code",
    "id": "EyP98ErUbRfH"
   },
   "outputs": [],
   "source": [
    "def get_thetas(coords, B, D, H, r, back_home=False):\n",
    "    \"\"\"\n",
    "    coords: (x, y, z) coordinates\n",
    "    B, D, H, r: scalar constants\n",
    "    \"\"\"\n",
    "    l = np.zeros((4,))\n",
    "    x, y, z = coords\n",
    "    Hz2 = (H - z)**2 # common term\n",
    "    l[0] = np.sqrt(x**2 + y**2 + Hz2)\n",
    "    l[1] = np.sqrt(x**2 + (D - y)**2 + Hz2)\n",
    "    l[2] = np.sqrt((B - x)**2 + (D - y)**2 + Hz2)\n",
    "    l[3] = np.sqrt((B - x)**2 + y**2 + Hz2)\n",
    "    if back_home:\n",
    "        return get_theta_from_string_length(get_Li(B, D),l, r)\n",
    "    else:\n",
    "        return get_theta_from_string_length(l, get_Li(B, D), r)"
   ]
  },
  {
   "cell_type": "code",
   "execution_count": null,
   "metadata": {
    "colab": {},
    "colab_type": "code",
    "id": "HzSX44etcUEC"
   },
   "outputs": [],
   "source": [
    "# Box dimensions\n",
    "B, D, H = 100, 200, 300\n",
    "# Pulley radius\n",
    "r = 0.1\n",
    "# Pulley locations\n",
    "Pulleys = [(0, 0, H), (0, D, H), (B, D, H), (B, 0, H)]"
   ]
  },
  {
   "cell_type": "markdown",
   "metadata": {
    "colab_type": "text",
    "id": "zRruFs_cbRfO"
   },
   "source": [
    "Taking some random values of $\\Theta$, we can get the corresponding coordinates from `get_coordinates()`.\n",
    "If $\\Theta$ is such that the ropes are taught, we will get back the original $\\Theta$ from `get_thetas()`.\n",
    "If they aren't, the values will be different. Both are demonstrated in the following example. In the first case, $\\theta_4$ is clearly different from the value we set, but in the second case, all angles are exactly the same."
   ]
  },
  {
   "cell_type": "markdown",
   "metadata": {
    "colab_type": "text",
    "id": "03eySuJ7bRfP"
   },
   "source": [
    "### Below is just a cross-check function. ###\n",
    "1. Each pulley rotated `[10,20,30,40]` rotations respectively, (i.e 1st pulley, 2nd pulley etc.)\n",
    "2. With these rotations we get the final co-ordinates, remember we assume we start from top of the structure area.\n",
    "3. While using the final_cordinates we use `get_thetas` function, i.e how much theta is supposed to be moved, this should come back to thetas we decided earlier."
   ]
  },
  {
   "cell_type": "code",
   "execution_count": 90,
   "metadata": {
    "colab": {
     "base_uri": "https://localhost:8080/",
     "height": 158
    },
    "colab_type": "code",
    "executionInfo": {
     "elapsed": 596,
     "status": "ok",
     "timestamp": 1566793861818,
     "user": {
      "displayName": "Anugraha Sinha",
      "photoUrl": "https://lh3.googleusercontent.com/a-/AAuE7mCkwiH-YaZ7CgDKMipr7dM1-1R8QSVsBVHEUBBRjg=s64",
      "userId": "05693439876093633965"
     },
     "user_tz": -540
    },
    "id": "tMlHgYCLbRfS",
    "outputId": "c706f8fe-ef98-4fce-de04-6f2e4cd5bdd0"
   },
   "outputs": [
    {
     "name": "stdout",
     "output_type": "stream",
     "text": [
      "For rotation = [10. 20. 30. 40.]\n",
      "\tx = 41.98822482885034, y = 96.19150450244695, z = 245.88322994588324\n",
      "\tΘ =  [10.        20.        30.        20.5045589]\n",
      "\n",
      "For rotation = [10. 20. 20. 10.]\n",
      "\tx = 50.0, y = 96.19150450244695, z = 253.18508971098808\n",
      "\tΘ =  [10. 20. 20. 10.]\n",
      "\n"
     ]
    }
   ],
   "source": [
    "def display(rotations, coords, theta):\n",
    "    print(f'For rotation = {rotations/(2*np.pi)}')\n",
    "    x, y, z = coords\n",
    "    print(f'\\tx = {x}, y = {y}, z = {z}')\n",
    "    print('\\tΘ = ', theta)\n",
    "    print()\n",
    "    \n",
    "# Pulleys rotated 10 revolutions, 20, 30, and 40, respectively\n",
    "rotations = np.array([10, 20, 30, 40])*2*np.pi\n",
    "coords = get_coordinate(rotations, B, D, H, r)\n",
    "theta = get_thetas(coords, B, D, H, r)/(2*np.pi)\n",
    "display(rotations, coords, theta)\n",
    "\n",
    "# Pulleys rotated 10 revolutions, 20, 20, and 10, respectively\n",
    "rotations = np.array([10, 20, 20, 10])*2*np.pi\n",
    "coords = get_coordinate(rotations, B, D, H, r)\n",
    "theta = get_thetas(coords, B, D, H, r)/(2*np.pi)\n",
    "display(rotations, coords, theta)"
   ]
  },
  {
   "cell_type": "markdown",
   "metadata": {
    "colab_type": "text",
    "id": "-gu-rDLwbRfZ"
   },
   "source": [
    "As we know that all points are calculated from Top, therefore, we need to 2 sets to data.\n",
    "1. Move from base $(B/2,D/2,H)$ to the target location\n",
    "2. Move from some location back to $(B/2,D/2,H)$\n",
    "\n",
    "In this case, we are looking at a dataset which looks like this\n",
    "\n",
    "|$X_i$|$Y_i$|$Z_i$|$X_f$|$Y_f$|$Z_f$| B | D | H | r |theta_0|theta_1|theta_2|theta_3|\n",
    "|-----|-----|-----|-----|-----|-----|---|---|---|---|-------|-------|-------|-------|"
   ]
  },
  {
   "cell_type": "code",
   "execution_count": 96,
   "metadata": {
    "colab": {
     "base_uri": "https://localhost:8080/",
     "height": 336
    },
    "colab_type": "code",
    "executionInfo": {
     "elapsed": 90806,
     "status": "ok",
     "timestamp": 1566794498500,
     "user": {
      "displayName": "Anugraha Sinha",
      "photoUrl": "https://lh3.googleusercontent.com/a-/AAuE7mCkwiH-YaZ7CgDKMipr7dM1-1R8QSVsBVHEUBBRjg=s64",
      "userId": "05693439876093633965"
     },
     "user_tz": -540
    },
    "id": "DicXvqnebRfa",
    "outputId": "e1f701a6-6d24-46ac-fbd1-0481c42e50d8"
   },
   "outputs": [
    {
     "name": "stdout",
     "output_type": "stream",
     "text": [
      "Shape :  (1192, 11)\n",
      "Shape :  (3216, 11)\n",
      "Shape :  (7008, 11)\n",
      "Shape :  (9792, 11)\n",
      "Shape :  (13392, 11)\n",
      "Shape :  (18864, 11)\n",
      "Shape :  (23616, 11)\n",
      "Shape :  (28608, 11)\n",
      "Shape :  (35520, 11)\n",
      "Shape :  (42656, 11)\n",
      "Completed with 1000 / 5000\n",
      "Shape :  (48936, 11)\n",
      "Shape :  (57216, 11)\n",
      "Shape :  (66864, 11)\n",
      "Shape :  (74448, 11)\n",
      "Shape :  (83808, 11)\n",
      "Shape :  (94912, 11)\n",
      "Shape :  (105216, 11)\n"
     ]
    }
   ],
   "source": [
    "B = D = H = np.arange(1,7,0.5)\n",
    "r = [0.008]\n",
    "\n",
    "data = np.zeros((1,11))\n",
    "first=True\n",
    "element = 0\n",
    "for b,d,h,r in itertools.product(B,D,H,r):\n",
    "    x_range = np.arange(0,b,1)\n",
    "    y_range = np.arange(0,d,1)\n",
    "    z_range = np.arange(0,h,1)\n",
    "    for x,y,z in itertools.product(x_range,y_range,z_range):\n",
    "        thetas_from_home = get_thetas([x,y,z],B=b,D=d,H=h,r=r,back_home=False)\n",
    "        if first:\n",
    "            data = np.array([x,y,z,b,d,h,r,thetas_from_home[0],thetas_from_home[1],thetas_from_home[2],thetas_from_home[3]])\n",
    "            first=False\n",
    "        else:\n",
    "            data = np.vstack((data,np.array([x,y,z,b,d,h,r,thetas_from_home[0],thetas_from_home[1],thetas_from_home[2],thetas_from_home[3]])))\n",
    "            first = False\n",
    "    if (element+1) % 100 == 0:\n",
    "        print(\"Shape : \",data.shape)\n",
    "    if (element+1) % 1000 == 0:\n",
    "        print(\"Completed with %d / %d\" %(element+1, 5000))\n",
    "    element += 1"
   ]
  },
  {
   "cell_type": "code",
   "execution_count": 97,
   "metadata": {
    "colab": {
     "base_uri": "https://localhost:8080/",
     "height": 34
    },
    "colab_type": "code",
    "executionInfo": {
     "elapsed": 487,
     "status": "ok",
     "timestamp": 1566794505272,
     "user": {
      "displayName": "Anugraha Sinha",
      "photoUrl": "https://lh3.googleusercontent.com/a-/AAuE7mCkwiH-YaZ7CgDKMipr7dM1-1R8QSVsBVHEUBBRjg=s64",
      "userId": "05693439876093633965"
     },
     "user_tz": -540
    },
    "id": "c_lLq5PUdQVD",
    "outputId": "9e8ec473-9390-41e0-fa57-b26b784099d3"
   },
   "outputs": [
    {
     "data": {
      "text/plain": [
       "(110592, 11)"
      ]
     },
     "execution_count": 97,
     "metadata": {
      "tags": []
     },
     "output_type": "execute_result"
    }
   ],
   "source": [
    "data.shape"
   ]
  },
  {
   "cell_type": "code",
   "execution_count": null,
   "metadata": {
    "colab": {},
    "colab_type": "code",
    "id": "FMBtJAPobRfd"
   },
   "outputs": [],
   "source": [
    "import pandas as pd\n",
    "data_df = pd.DataFrame(data,columns=[\"x_f\",\"y_f\",\"z_f\",\"b\",\"d\",\"h\",\"r\",\"theta0\",\"theta1\",\"theta2\",\"theta3\"])"
   ]
  },
  {
   "cell_type": "code",
   "execution_count": 99,
   "metadata": {
    "colab": {
     "base_uri": "https://localhost:8080/",
     "height": 230
    },
    "colab_type": "code",
    "executionInfo": {
     "elapsed": 364,
     "status": "ok",
     "timestamp": 1566794508638,
     "user": {
      "displayName": "Anugraha Sinha",
      "photoUrl": "https://lh3.googleusercontent.com/a-/AAuE7mCkwiH-YaZ7CgDKMipr7dM1-1R8QSVsBVHEUBBRjg=s64",
      "userId": "05693439876093633965"
     },
     "user_tz": -540
    },
    "id": "PZQlnVdrj4Wd",
    "outputId": "85a9dbe0-e747-4415-cd3d-60c7b454d20f"
   },
   "outputs": [
    {
     "data": {
      "text/plain": [
       "x_f          (7,)\n",
       "y_f          (7,)\n",
       "z_f          (7,)\n",
       "b           (12,)\n",
       "d           (12,)\n",
       "h           (12,)\n",
       "r            (1,)\n",
       "theta0    (6678,)\n",
       "theta1    (9539,)\n",
       "theta2    (6681,)\n",
       "theta3    (9539,)\n",
       "dtype: object"
      ]
     },
     "execution_count": 99,
     "metadata": {
      "tags": []
     },
     "output_type": "execute_result"
    }
   ],
   "source": [
    "data_df.apply(lambda x : x.unique().shape)"
   ]
  },
  {
   "cell_type": "code",
   "execution_count": 100,
   "metadata": {
    "colab": {
     "base_uri": "https://localhost:8080/",
     "height": 107
    },
    "colab_type": "code",
    "executionInfo": {
     "elapsed": 1114,
     "status": "ok",
     "timestamp": 1566794513392,
     "user": {
      "displayName": "Anugraha Sinha",
      "photoUrl": "https://lh3.googleusercontent.com/a-/AAuE7mCkwiH-YaZ7CgDKMipr7dM1-1R8QSVsBVHEUBBRjg=s64",
      "userId": "05693439876093633965"
     },
     "user_tz": -540
    },
    "id": "FkFGOpLpbRfg",
    "outputId": "2cf30518-f1b6-46c9-9a25-99d46eeaa964"
   },
   "outputs": [
    {
     "data": {
      "text/html": [
       "<div>\n",
       "<style scoped>\n",
       "    .dataframe tbody tr th:only-of-type {\n",
       "        vertical-align: middle;\n",
       "    }\n",
       "\n",
       "    .dataframe tbody tr th {\n",
       "        vertical-align: top;\n",
       "    }\n",
       "\n",
       "    .dataframe thead th {\n",
       "        text-align: right;\n",
       "    }\n",
       "</style>\n",
       "<table border=\"1\" class=\"dataframe\">\n",
       "  <thead>\n",
       "    <tr style=\"text-align: right;\">\n",
       "      <th></th>\n",
       "      <th>x_f</th>\n",
       "      <th>y_f</th>\n",
       "      <th>z_f</th>\n",
       "      <th>b</th>\n",
       "      <th>d</th>\n",
       "      <th>h</th>\n",
       "      <th>r</th>\n",
       "      <th>theta0</th>\n",
       "      <th>theta1</th>\n",
       "      <th>theta2</th>\n",
       "      <th>theta3</th>\n",
       "    </tr>\n",
       "  </thead>\n",
       "  <tbody>\n",
       "    <tr>\n",
       "      <th>0</th>\n",
       "      <td>0.0</td>\n",
       "      <td>0.0</td>\n",
       "      <td>0.0</td>\n",
       "      <td>1.0</td>\n",
       "      <td>1.0</td>\n",
       "      <td>1.0</td>\n",
       "      <td>0.008</td>\n",
       "      <td>36.611652</td>\n",
       "      <td>88.388348</td>\n",
       "      <td>128.118003</td>\n",
       "      <td>88.388348</td>\n",
       "    </tr>\n",
       "    <tr>\n",
       "      <th>1</th>\n",
       "      <td>0.0</td>\n",
       "      <td>0.0</td>\n",
       "      <td>0.0</td>\n",
       "      <td>1.0</td>\n",
       "      <td>1.0</td>\n",
       "      <td>1.5</td>\n",
       "      <td>0.008</td>\n",
       "      <td>99.111652</td>\n",
       "      <td>136.958607</td>\n",
       "      <td>169.305754</td>\n",
       "      <td>136.958607</td>\n",
       "    </tr>\n",
       "  </tbody>\n",
       "</table>\n",
       "</div>"
      ],
      "text/plain": [
       "   x_f  y_f  z_f    b  ...     theta0      theta1      theta2      theta3\n",
       "0  0.0  0.0  0.0  1.0  ...  36.611652   88.388348  128.118003   88.388348\n",
       "1  0.0  0.0  0.0  1.0  ...  99.111652  136.958607  169.305754  136.958607\n",
       "\n",
       "[2 rows x 11 columns]"
      ]
     },
     "execution_count": 100,
     "metadata": {
      "tags": []
     },
     "output_type": "execute_result"
    }
   ],
   "source": [
    "data_df.head(2)"
   ]
  },
  {
   "cell_type": "markdown",
   "metadata": {
    "colab_type": "text",
    "id": "V4XTwPE0rf7J"
   },
   "source": [
    "Lets verify whether the thetas calculated are correct, by reverse calculated the $x_f,y_f,z_f$ using the theta values"
   ]
  },
  {
   "cell_type": "code",
   "execution_count": 101,
   "metadata": {
    "colab": {
     "base_uri": "https://localhost:8080/",
     "height": 52
    },
    "colab_type": "code",
    "executionInfo": {
     "elapsed": 870,
     "status": "ok",
     "timestamp": 1566794516267,
     "user": {
      "displayName": "Anugraha Sinha",
      "photoUrl": "https://lh3.googleusercontent.com/a-/AAuE7mCkwiH-YaZ7CgDKMipr7dM1-1R8QSVsBVHEUBBRjg=s64",
      "userId": "05693439876093633965"
     },
     "user_tz": -540
    },
    "id": "D1EUylKXbRfj",
    "outputId": "3e15a8cb-de25-4c6f-dbb3-651a019d3974"
   },
   "outputs": [
    {
     "name": "stdout",
     "output_type": "stream",
     "text": [
      "[ 4.44089210e-16 -2.22044605e-16  2.00000000e+00]\n",
      "[0. 0. 2.]\n"
     ]
    }
   ],
   "source": [
    "idx = 10\n",
    "print(get_coordinate(thetas = data_df.iloc[idx,[-4,-3,-2,-1]],\n",
    "                     B = data_df.iloc[idx,][\"b\"],\n",
    "                     D = data_df.iloc[idx,][\"d\"],\n",
    "                     H = data_df.iloc[idx,][\"h\"],\n",
    "                     r=0.008))\n",
    "print(data_df.iloc[idx,[0,1,2]].values)"
   ]
  },
  {
   "cell_type": "code",
   "execution_count": null,
   "metadata": {
    "colab": {},
    "colab_type": "code",
    "id": "BA3D1yrmk26d"
   },
   "outputs": [],
   "source": [
    "data_df.to_csv(\"suspended_robot_data_r_0.008_B_D_H_1_6_20190826.csv\",header=True,index=False)"
   ]
  },
  {
   "cell_type": "code",
   "execution_count": null,
   "metadata": {
    "colab": {},
    "colab_type": "code",
    "id": "63JuaDS23yYI"
   },
   "outputs": [],
   "source": [
    "col_l = [\"x_f\",\"y_f\",\"z_f\",\"b\",\"d\",\"h\",\"r\"]\n",
    "col_r = [\"theta0\",\"theta1\",\"theta2\",\"theta3\"]\n",
    "data_df_model = pd.melt(data_df,id_vars=col_l,\n",
    "                        value_vars=col_r)"
   ]
  },
  {
   "cell_type": "code",
   "execution_count": 103,
   "metadata": {
    "colab": {
     "base_uri": "https://localhost:8080/",
     "height": 197
    },
    "colab_type": "code",
    "executionInfo": {
     "elapsed": 727,
     "status": "ok",
     "timestamp": 1566794525772,
     "user": {
      "displayName": "Anugraha Sinha",
      "photoUrl": "https://lh3.googleusercontent.com/a-/AAuE7mCkwiH-YaZ7CgDKMipr7dM1-1R8QSVsBVHEUBBRjg=s64",
      "userId": "05693439876093633965"
     },
     "user_tz": -540
    },
    "id": "Lo2ltzcXJHC-",
    "outputId": "10ac50b8-d56d-4388-e70b-d86ee02cbde9"
   },
   "outputs": [
    {
     "data": {
      "text/html": [
       "<div>\n",
       "<style scoped>\n",
       "    .dataframe tbody tr th:only-of-type {\n",
       "        vertical-align: middle;\n",
       "    }\n",
       "\n",
       "    .dataframe tbody tr th {\n",
       "        vertical-align: top;\n",
       "    }\n",
       "\n",
       "    .dataframe thead th {\n",
       "        text-align: right;\n",
       "    }\n",
       "</style>\n",
       "<table border=\"1\" class=\"dataframe\">\n",
       "  <thead>\n",
       "    <tr style=\"text-align: right;\">\n",
       "      <th></th>\n",
       "      <th>x_f</th>\n",
       "      <th>y_f</th>\n",
       "      <th>z_f</th>\n",
       "      <th>b</th>\n",
       "      <th>d</th>\n",
       "      <th>h</th>\n",
       "      <th>r</th>\n",
       "      <th>variable</th>\n",
       "      <th>value</th>\n",
       "    </tr>\n",
       "  </thead>\n",
       "  <tbody>\n",
       "    <tr>\n",
       "      <th>0</th>\n",
       "      <td>0.0</td>\n",
       "      <td>0.0</td>\n",
       "      <td>0.0</td>\n",
       "      <td>1.0</td>\n",
       "      <td>1.0</td>\n",
       "      <td>1.0</td>\n",
       "      <td>0.008</td>\n",
       "      <td>theta0</td>\n",
       "      <td>36.611652</td>\n",
       "    </tr>\n",
       "    <tr>\n",
       "      <th>1</th>\n",
       "      <td>0.0</td>\n",
       "      <td>0.0</td>\n",
       "      <td>0.0</td>\n",
       "      <td>1.0</td>\n",
       "      <td>1.0</td>\n",
       "      <td>1.5</td>\n",
       "      <td>0.008</td>\n",
       "      <td>theta0</td>\n",
       "      <td>99.111652</td>\n",
       "    </tr>\n",
       "    <tr>\n",
       "      <th>2</th>\n",
       "      <td>0.0</td>\n",
       "      <td>0.0</td>\n",
       "      <td>1.0</td>\n",
       "      <td>1.0</td>\n",
       "      <td>1.0</td>\n",
       "      <td>1.5</td>\n",
       "      <td>0.008</td>\n",
       "      <td>theta0</td>\n",
       "      <td>-25.888348</td>\n",
       "    </tr>\n",
       "    <tr>\n",
       "      <th>3</th>\n",
       "      <td>0.0</td>\n",
       "      <td>0.0</td>\n",
       "      <td>0.0</td>\n",
       "      <td>1.0</td>\n",
       "      <td>1.0</td>\n",
       "      <td>2.0</td>\n",
       "      <td>0.008</td>\n",
       "      <td>theta0</td>\n",
       "      <td>161.611652</td>\n",
       "    </tr>\n",
       "    <tr>\n",
       "      <th>4</th>\n",
       "      <td>0.0</td>\n",
       "      <td>0.0</td>\n",
       "      <td>1.0</td>\n",
       "      <td>1.0</td>\n",
       "      <td>1.0</td>\n",
       "      <td>2.0</td>\n",
       "      <td>0.008</td>\n",
       "      <td>theta0</td>\n",
       "      <td>36.611652</td>\n",
       "    </tr>\n",
       "  </tbody>\n",
       "</table>\n",
       "</div>"
      ],
      "text/plain": [
       "   x_f  y_f  z_f    b    d    h      r variable       value\n",
       "0  0.0  0.0  0.0  1.0  1.0  1.0  0.008   theta0   36.611652\n",
       "1  0.0  0.0  0.0  1.0  1.0  1.5  0.008   theta0   99.111652\n",
       "2  0.0  0.0  1.0  1.0  1.0  1.5  0.008   theta0  -25.888348\n",
       "3  0.0  0.0  0.0  1.0  1.0  2.0  0.008   theta0  161.611652\n",
       "4  0.0  0.0  1.0  1.0  1.0  2.0  0.008   theta0   36.611652"
      ]
     },
     "execution_count": 103,
     "metadata": {
      "tags": []
     },
     "output_type": "execute_result"
    }
   ],
   "source": [
    "data_df_model.head(5)"
   ]
  },
  {
   "cell_type": "code",
   "execution_count": null,
   "metadata": {
    "colab": {},
    "colab_type": "code",
    "id": "zVOKG3gFJIiT"
   },
   "outputs": [],
   "source": [
    "data_df_model = pd.concat([data_df_model.drop(columns=[\"variable\"],inplace=False),\n",
    "                           pd.get_dummies(data_df_model.variable,drop_first=False)],\n",
    "                          axis=1)"
   ]
  },
  {
   "cell_type": "code",
   "execution_count": 105,
   "metadata": {
    "colab": {
     "base_uri": "https://localhost:8080/",
     "height": 197
    },
    "colab_type": "code",
    "executionInfo": {
     "elapsed": 493,
     "status": "ok",
     "timestamp": 1566794532038,
     "user": {
      "displayName": "Anugraha Sinha",
      "photoUrl": "https://lh3.googleusercontent.com/a-/AAuE7mCkwiH-YaZ7CgDKMipr7dM1-1R8QSVsBVHEUBBRjg=s64",
      "userId": "05693439876093633965"
     },
     "user_tz": -540
    },
    "id": "ikV13PHOJPi6",
    "outputId": "174710e8-c5a6-449d-85c9-e7fcc49f3c18"
   },
   "outputs": [
    {
     "data": {
      "text/html": [
       "<div>\n",
       "<style scoped>\n",
       "    .dataframe tbody tr th:only-of-type {\n",
       "        vertical-align: middle;\n",
       "    }\n",
       "\n",
       "    .dataframe tbody tr th {\n",
       "        vertical-align: top;\n",
       "    }\n",
       "\n",
       "    .dataframe thead th {\n",
       "        text-align: right;\n",
       "    }\n",
       "</style>\n",
       "<table border=\"1\" class=\"dataframe\">\n",
       "  <thead>\n",
       "    <tr style=\"text-align: right;\">\n",
       "      <th></th>\n",
       "      <th>x_f</th>\n",
       "      <th>y_f</th>\n",
       "      <th>z_f</th>\n",
       "      <th>b</th>\n",
       "      <th>d</th>\n",
       "      <th>h</th>\n",
       "      <th>r</th>\n",
       "      <th>value</th>\n",
       "      <th>theta0</th>\n",
       "      <th>theta1</th>\n",
       "      <th>theta2</th>\n",
       "      <th>theta3</th>\n",
       "    </tr>\n",
       "  </thead>\n",
       "  <tbody>\n",
       "    <tr>\n",
       "      <th>0</th>\n",
       "      <td>0.0</td>\n",
       "      <td>0.0</td>\n",
       "      <td>0.0</td>\n",
       "      <td>1.0</td>\n",
       "      <td>1.0</td>\n",
       "      <td>1.0</td>\n",
       "      <td>0.008</td>\n",
       "      <td>36.611652</td>\n",
       "      <td>1</td>\n",
       "      <td>0</td>\n",
       "      <td>0</td>\n",
       "      <td>0</td>\n",
       "    </tr>\n",
       "    <tr>\n",
       "      <th>1</th>\n",
       "      <td>0.0</td>\n",
       "      <td>0.0</td>\n",
       "      <td>0.0</td>\n",
       "      <td>1.0</td>\n",
       "      <td>1.0</td>\n",
       "      <td>1.5</td>\n",
       "      <td>0.008</td>\n",
       "      <td>99.111652</td>\n",
       "      <td>1</td>\n",
       "      <td>0</td>\n",
       "      <td>0</td>\n",
       "      <td>0</td>\n",
       "    </tr>\n",
       "    <tr>\n",
       "      <th>2</th>\n",
       "      <td>0.0</td>\n",
       "      <td>0.0</td>\n",
       "      <td>1.0</td>\n",
       "      <td>1.0</td>\n",
       "      <td>1.0</td>\n",
       "      <td>1.5</td>\n",
       "      <td>0.008</td>\n",
       "      <td>-25.888348</td>\n",
       "      <td>1</td>\n",
       "      <td>0</td>\n",
       "      <td>0</td>\n",
       "      <td>0</td>\n",
       "    </tr>\n",
       "    <tr>\n",
       "      <th>3</th>\n",
       "      <td>0.0</td>\n",
       "      <td>0.0</td>\n",
       "      <td>0.0</td>\n",
       "      <td>1.0</td>\n",
       "      <td>1.0</td>\n",
       "      <td>2.0</td>\n",
       "      <td>0.008</td>\n",
       "      <td>161.611652</td>\n",
       "      <td>1</td>\n",
       "      <td>0</td>\n",
       "      <td>0</td>\n",
       "      <td>0</td>\n",
       "    </tr>\n",
       "    <tr>\n",
       "      <th>4</th>\n",
       "      <td>0.0</td>\n",
       "      <td>0.0</td>\n",
       "      <td>1.0</td>\n",
       "      <td>1.0</td>\n",
       "      <td>1.0</td>\n",
       "      <td>2.0</td>\n",
       "      <td>0.008</td>\n",
       "      <td>36.611652</td>\n",
       "      <td>1</td>\n",
       "      <td>0</td>\n",
       "      <td>0</td>\n",
       "      <td>0</td>\n",
       "    </tr>\n",
       "  </tbody>\n",
       "</table>\n",
       "</div>"
      ],
      "text/plain": [
       "   x_f  y_f  z_f    b    d  ...       value  theta0  theta1  theta2  theta3\n",
       "0  0.0  0.0  0.0  1.0  1.0  ...   36.611652       1       0       0       0\n",
       "1  0.0  0.0  0.0  1.0  1.0  ...   99.111652       1       0       0       0\n",
       "2  0.0  0.0  1.0  1.0  1.0  ...  -25.888348       1       0       0       0\n",
       "3  0.0  0.0  0.0  1.0  1.0  ...  161.611652       1       0       0       0\n",
       "4  0.0  0.0  1.0  1.0  1.0  ...   36.611652       1       0       0       0\n",
       "\n",
       "[5 rows x 12 columns]"
      ]
     },
     "execution_count": 105,
     "metadata": {
      "tags": []
     },
     "output_type": "execute_result"
    }
   ],
   "source": [
    "data_df_model.head()"
   ]
  },
  {
   "cell_type": "code",
   "execution_count": null,
   "metadata": {
    "colab": {},
    "colab_type": "code",
    "id": "djO_P4XdPhW0"
   },
   "outputs": [],
   "source": [
    "data_df_model.to_csv(\"suspended_robot_data_theta_scaled_r_0.008_B_D_H_1_6_20190826.csv\",header=True,index=False)"
   ]
  },
  {
   "cell_type": "code",
   "execution_count": null,
   "metadata": {
    "colab": {},
    "colab_type": "code",
    "id": "KqQX63tDJseU"
   },
   "outputs": [],
   "source": [
    "import matplotlib.pyplot as plt"
   ]
  },
  {
   "cell_type": "code",
   "execution_count": 107,
   "metadata": {
    "colab": {
     "base_uri": "https://localhost:8080/",
     "height": 268
    },
    "colab_type": "code",
    "executionInfo": {
     "elapsed": 1131,
     "status": "ok",
     "timestamp": 1566794536706,
     "user": {
      "displayName": "Anugraha Sinha",
      "photoUrl": "https://lh3.googleusercontent.com/a-/AAuE7mCkwiH-YaZ7CgDKMipr7dM1-1R8QSVsBVHEUBBRjg=s64",
      "userId": "05693439876093633965"
     },
     "user_tz": -540
    },
    "id": "Zt0Z1DNlJzVD",
    "outputId": "e10c5256-967d-411e-b551-f5f97e836598"
   },
   "outputs": [
    {
     "data": {
      "image/png": "[encoded data removed]",
      "text/plain": [
       "<Figure size 432x288 with 1 Axes>"
      ]
     },
     "metadata": {
      "tags": []
     },
     "output_type": "display_data"
    }
   ],
   "source": [
    "plt.hist(data_df_model.value,bins=100)\n",
    "plt.show()"
   ]
  },
  {
   "cell_type": "code",
   "execution_count": null,
   "metadata": {
    "colab": {},
    "colab_type": "code",
    "id": "7U6UR6VuJ19l"
   },
   "outputs": [],
   "source": [
    "from sklearn.preprocessing import StandardScaler"
   ]
  },
  {
   "cell_type": "code",
   "execution_count": 112,
   "metadata": {
    "colab": {
     "base_uri": "https://localhost:8080/",
     "height": 34
    },
    "colab_type": "code",
    "executionInfo": {
     "elapsed": 542,
     "status": "ok",
     "timestamp": 1566794659375,
     "user": {
      "displayName": "Anugraha Sinha",
      "photoUrl": "https://lh3.googleusercontent.com/a-/AAuE7mCkwiH-YaZ7CgDKMipr7dM1-1R8QSVsBVHEUBBRjg=s64",
      "userId": "05693439876093633965"
     },
     "user_tz": -540
    },
    "id": "DGSYllTeLRK3",
    "outputId": "f9e63f93-4fb0-4ff3-82c4-719b3f09d13c"
   },
   "outputs": [
    {
     "data": {
      "text/plain": [
       "StandardScaler(copy=True, with_mean=True, with_std=True)"
      ]
     },
     "execution_count": 112,
     "metadata": {
      "tags": []
     },
     "output_type": "execute_result"
    }
   ],
   "source": [
    "obj = StandardScaler()\n",
    "obj.fit(data_df_model.value.values.reshape(-1,1))"
   ]
  },
  {
   "cell_type": "code",
   "execution_count": null,
   "metadata": {
    "colab": {},
    "colab_type": "code",
    "id": "fRZp0BURj0qp"
   },
   "outputs": [],
   "source": [
    "import pickle\n",
    "with open(\"Y_theta_value_scalar.pkl\",\"wb\") as f:\n",
    "    pickle.dump(obj,f)"
   ]
  },
  {
   "cell_type": "code",
   "execution_count": null,
   "metadata": {
    "colab": {},
    "colab_type": "code",
    "id": "P26iHbh3PNEM"
   },
   "outputs": [],
   "source": [
    "data_df_model_2 = pd.concat([data_df_model.drop(columns=[\"value\"],inplace=False),\n",
    "                             pd.DataFrame(obj.transform(data_df_model.value.values.reshape(-1,1)),columns=[\"scaled_value\"])],axis=1)"
   ]
  },
  {
   "cell_type": "code",
   "execution_count": 125,
   "metadata": {
    "colab": {
     "base_uri": "https://localhost:8080/",
     "height": 197
    },
    "colab_type": "code",
    "executionInfo": {
     "elapsed": 494,
     "status": "ok",
     "timestamp": 1566795646010,
     "user": {
      "displayName": "Anugraha Sinha",
      "photoUrl": "https://lh3.googleusercontent.com/a-/AAuE7mCkwiH-YaZ7CgDKMipr7dM1-1R8QSVsBVHEUBBRjg=s64",
      "userId": "05693439876093633965"
     },
     "user_tz": -540
    },
    "id": "8NlzxRCDPXm9",
    "outputId": "129ec247-c8e8-4cec-dd8c-6163830d245d"
   },
   "outputs": [
    {
     "data": {
      "text/html": [
       "<div>\n",
       "<style scoped>\n",
       "    .dataframe tbody tr th:only-of-type {\n",
       "        vertical-align: middle;\n",
       "    }\n",
       "\n",
       "    .dataframe tbody tr th {\n",
       "        vertical-align: top;\n",
       "    }\n",
       "\n",
       "    .dataframe thead th {\n",
       "        text-align: right;\n",
       "    }\n",
       "</style>\n",
       "<table border=\"1\" class=\"dataframe\">\n",
       "  <thead>\n",
       "    <tr style=\"text-align: right;\">\n",
       "      <th></th>\n",
       "      <th>x_f</th>\n",
       "      <th>y_f</th>\n",
       "      <th>z_f</th>\n",
       "      <th>b</th>\n",
       "      <th>d</th>\n",
       "      <th>h</th>\n",
       "      <th>r</th>\n",
       "      <th>theta0</th>\n",
       "      <th>theta1</th>\n",
       "      <th>theta2</th>\n",
       "      <th>theta3</th>\n",
       "      <th>scaled_value</th>\n",
       "    </tr>\n",
       "  </thead>\n",
       "  <tbody>\n",
       "    <tr>\n",
       "      <th>0</th>\n",
       "      <td>0.0</td>\n",
       "      <td>0.0</td>\n",
       "      <td>0.0</td>\n",
       "      <td>1.0</td>\n",
       "      <td>1.0</td>\n",
       "      <td>1.0</td>\n",
       "      <td>0.008</td>\n",
       "      <td>1</td>\n",
       "      <td>0</td>\n",
       "      <td>0</td>\n",
       "      <td>0</td>\n",
       "      <td>-0.699853</td>\n",
       "    </tr>\n",
       "    <tr>\n",
       "      <th>1</th>\n",
       "      <td>0.0</td>\n",
       "      <td>0.0</td>\n",
       "      <td>0.0</td>\n",
       "      <td>1.0</td>\n",
       "      <td>1.0</td>\n",
       "      <td>1.5</td>\n",
       "      <td>0.008</td>\n",
       "      <td>1</td>\n",
       "      <td>0</td>\n",
       "      <td>0</td>\n",
       "      <td>0</td>\n",
       "      <td>-0.390172</td>\n",
       "    </tr>\n",
       "    <tr>\n",
       "      <th>2</th>\n",
       "      <td>0.0</td>\n",
       "      <td>0.0</td>\n",
       "      <td>1.0</td>\n",
       "      <td>1.0</td>\n",
       "      <td>1.0</td>\n",
       "      <td>1.5</td>\n",
       "      <td>0.008</td>\n",
       "      <td>1</td>\n",
       "      <td>0</td>\n",
       "      <td>0</td>\n",
       "      <td>0</td>\n",
       "      <td>-1.009534</td>\n",
       "    </tr>\n",
       "    <tr>\n",
       "      <th>3</th>\n",
       "      <td>0.0</td>\n",
       "      <td>0.0</td>\n",
       "      <td>0.0</td>\n",
       "      <td>1.0</td>\n",
       "      <td>1.0</td>\n",
       "      <td>2.0</td>\n",
       "      <td>0.008</td>\n",
       "      <td>1</td>\n",
       "      <td>0</td>\n",
       "      <td>0</td>\n",
       "      <td>0</td>\n",
       "      <td>-0.080491</td>\n",
       "    </tr>\n",
       "    <tr>\n",
       "      <th>4</th>\n",
       "      <td>0.0</td>\n",
       "      <td>0.0</td>\n",
       "      <td>1.0</td>\n",
       "      <td>1.0</td>\n",
       "      <td>1.0</td>\n",
       "      <td>2.0</td>\n",
       "      <td>0.008</td>\n",
       "      <td>1</td>\n",
       "      <td>0</td>\n",
       "      <td>0</td>\n",
       "      <td>0</td>\n",
       "      <td>-0.699853</td>\n",
       "    </tr>\n",
       "  </tbody>\n",
       "</table>\n",
       "</div>"
      ],
      "text/plain": [
       "   x_f  y_f  z_f    b    d  ...  theta0  theta1  theta2  theta3  scaled_value\n",
       "0  0.0  0.0  0.0  1.0  1.0  ...       1       0       0       0     -0.699853\n",
       "1  0.0  0.0  0.0  1.0  1.0  ...       1       0       0       0     -0.390172\n",
       "2  0.0  0.0  1.0  1.0  1.0  ...       1       0       0       0     -1.009534\n",
       "3  0.0  0.0  0.0  1.0  1.0  ...       1       0       0       0     -0.080491\n",
       "4  0.0  0.0  1.0  1.0  1.0  ...       1       0       0       0     -0.699853\n",
       "\n",
       "[5 rows x 12 columns]"
      ]
     },
     "execution_count": 125,
     "metadata": {
      "tags": []
     },
     "output_type": "execute_result"
    }
   ],
   "source": [
    "data_df_model_2.head()"
   ]
  },
  {
   "cell_type": "code",
   "execution_count": null,
   "metadata": {
    "colab": {},
    "colab_type": "code",
    "id": "dk0pM6JVSdEt"
   },
   "outputs": [],
   "source": [
    "data_df_model_2.to_csv(\"suspended_robot_data_all_scaled_r_0.008_B_D_H_1_6_20190826.csv\",header=True,index=False)"
   ]
  },
  {
   "cell_type": "code",
   "execution_count": null,
   "metadata": {
    "colab": {},
    "colab_type": "code",
    "id": "9K87GABxTvu0"
   },
   "outputs": [],
   "source": [
    "X_df = data_df_model_2.drop(columns=[\"r\",\"scaled_value\"],inplace=False)\n",
    "Y_df = data_df_model_2[\"scaled_value\"]"
   ]
  },
  {
   "cell_type": "code",
   "execution_count": null,
   "metadata": {
    "colab": {},
    "colab_type": "code",
    "id": "ebg3fM4_Tv70"
   },
   "outputs": [],
   "source": [
    "X_df.to_csv(\"suspended_robot_X_data_df.csv\",header=True,index=False)\n",
    "Y_df.to_csv(\"suspended_robot_Y_data_df.csv\",header=True,index=False)"
   ]
  },
  {
   "cell_type": "code",
   "execution_count": null,
   "metadata": {
    "colab": {},
    "colab_type": "code",
    "id": "p9zrrSUJSrsw"
   },
   "outputs": [],
   "source": [
    "X = data_df_model_2.drop(columns=[\"r\",\"scaled_value\"],inplace=False).values\n",
    "Y = data_df_model_2[\"scaled_value\"].values.reshape(-1,1)"
   ]
  },
  {
   "cell_type": "code",
   "execution_count": 128,
   "metadata": {
    "colab": {
     "base_uri": "https://localhost:8080/",
     "height": 34
    },
    "colab_type": "code",
    "executionInfo": {
     "elapsed": 470,
     "status": "ok",
     "timestamp": 1566795657173,
     "user": {
      "displayName": "Anugraha Sinha",
      "photoUrl": "https://lh3.googleusercontent.com/a-/AAuE7mCkwiH-YaZ7CgDKMipr7dM1-1R8QSVsBVHEUBBRjg=s64",
      "userId": "05693439876093633965"
     },
     "user_tz": -540
    },
    "id": "S0Y-iyX4S7GE",
    "outputId": "7b496814-8f9d-4323-f382-27883c2358e4"
   },
   "outputs": [
    {
     "data": {
      "text/plain": [
       "((442368, 10), (442368, 1))"
      ]
     },
     "execution_count": 128,
     "metadata": {
      "tags": []
     },
     "output_type": "execute_result"
    }
   ],
   "source": [
    "X.shape,Y.shape"
   ]
  },
  {
   "cell_type": "code",
   "execution_count": null,
   "metadata": {
    "colab": {},
    "colab_type": "code",
    "id": "y6SnoIfRTfB8"
   },
   "outputs": [],
   "source": [
    "X.dump(\"suspended_robot_X_data.npy\")\n",
    "Y.dump(\"suspended_robot_Y_data.npy\")"
   ]
  }
 ],
 "metadata": {
  "colab": {
   "collapsed_sections": [],
   "name": "generate_data_asinha_Ver1.0.ipynb",
   "provenance": [
    {
     "file_id": "https://github.com/Machine-Learning-Tokyo/Agritech/blob/muru/Suspended_Robot/ML4D/generate_data_asinha_Ver1.0.ipynb",
     "timestamp": 1566781040340
    }
   ],
   "version": "0.3.2"
  },
  "kernelspec": {
   "display_name": "Python 3",
   "language": "python",
   "name": "python3"
  },
  "language_info": {
   "codemirror_mode": {
    "name": "ipython",
    "version": 3
   },
   "file_extension": ".py",
   "mimetype": "text/x-python",
   "name": "python",
   "nbconvert_exporter": "python",
   "pygments_lexer": "ipython3",
   "version": "3.6.0"
  }
 },
 "nbformat": 4,
 "nbformat_minor": 2
}
